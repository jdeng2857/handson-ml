{
 "cells": [
  {
   "cell_type": "code",
   "execution_count": 3,
   "id": "34ae3fa6",
   "metadata": {},
   "outputs": [],
   "source": [
    "import numpy as np\n",
    "from sklearn.datasets import load_iris\n",
    "from sklearn.linear_model import Perceptron\n",
    "\n",
    "iris = load_iris(as_frame=True)\n",
    "X = iris.data[[\"petal length (cm)\", \"petal width (cm)\"]].values\n",
    "y = (iris.target == 0)  # Iris setosa\n",
    "\n",
    "per_clf = Perceptron(random_state=42)\n",
    "per_clf.fit(X, y)\n",
    "\n",
    "X_new = [[2, 0.5], [3, 1]]\n",
    "y_pred = per_clf.predict(X_new)  # predicts True and False for these 2 flowers\n",
    " "
   ]
  },
  {
   "cell_type": "code",
   "execution_count": 45,
   "id": "18eef064",
   "metadata": {},
   "outputs": [],
   "source": [
    "# Perceptron model (MLP)\n",
    "from sklearn.datasets import fetch_california_housing\n",
    "from sklearn.metrics import mean_squared_error\n",
    "from sklearn.model_selection import train_test_split\n",
    "from sklearn.neural_network import MLPRegressor\n",
    "from sklearn.pipeline import make_pipeline\n",
    "from sklearn.preprocessing import StandardScaler\n",
    "\n",
    "housing = fetch_california_housing()\n",
    "X_train_full, X_test, y_train_full, y_test = train_test_split(\n",
    "    housing.data, housing.target, random_state=42)\n",
    "X_train, X_valid, y_train, y_valid = train_test_split(\n",
    "    X_train_full, y_train_full, random_state=42)\n",
    "\n",
    "mlp_reg = MLPRegressor(hidden_layer_sizes=[50, 50, 50], random_state=42)\n",
    "pipeline = make_pipeline(StandardScaler(), mlp_reg)\n",
    "pipeline.fit(X_train, y_train)\n",
    "y_pred = pipeline.predict(X_valid)\n",
    "rmse = mean_squared_error(y_valid, y_pred, squared=False)  # about 0.505"
   ]
  },
  {
   "cell_type": "code",
   "execution_count": 11,
   "id": "1d652a84",
   "metadata": {},
   "outputs": [],
   "source": [
    "import tensorflow as tf\n",
    "\n",
    "fashion_mnist = tf.keras.datasets.fashion_mnist.load_data()\n",
    "(X_train_full, y_train_full), (X_test, y_test) = fashion_mnist\n",
    "X_train, y_train = X_train_full[:-5000], y_train_full[:-5000]\n",
    "X_valid, y_valid = X_train_full[-5000:], y_train_full[-5000:]"
   ]
  },
  {
   "cell_type": "code",
   "execution_count": 12,
   "id": "7e0c7c96",
   "metadata": {},
   "outputs": [
    {
     "data": {
      "text/plain": [
       "(55000, 28, 28)"
      ]
     },
     "execution_count": 12,
     "metadata": {},
     "output_type": "execute_result"
    }
   ],
   "source": [
    "X_train.shape"
   ]
  },
  {
   "cell_type": "code",
   "execution_count": 13,
   "id": "ebebe694",
   "metadata": {},
   "outputs": [
    {
     "data": {
      "text/plain": [
       "dtype('uint8')"
      ]
     },
     "execution_count": 13,
     "metadata": {},
     "output_type": "execute_result"
    }
   ],
   "source": [
    "X_train.dtype"
   ]
  },
  {
   "cell_type": "code",
   "execution_count": 14,
   "id": "926e6728",
   "metadata": {},
   "outputs": [],
   "source": [
    "X_train, X_valid, X_test = X_train / 255., X_valid / 255., X_test / 255."
   ]
  },
  {
   "cell_type": "code",
   "execution_count": 15,
   "id": "5e15fd36",
   "metadata": {},
   "outputs": [],
   "source": [
    "class_names = [\"T-shirt/top\", \"Trouser\", \"Pullover\", \"Dress\", \"Coat\",\n",
    "               \"Sandal\", \"Shirt\", \"Sneaker\", \"Bag\", \"Ankle boot\"]\n"
   ]
  },
  {
   "cell_type": "code",
   "execution_count": 16,
   "id": "c016dcfb",
   "metadata": {},
   "outputs": [
    {
     "data": {
      "text/plain": [
       "'Ankle boot'"
      ]
     },
     "execution_count": 16,
     "metadata": {},
     "output_type": "execute_result"
    }
   ],
   "source": [
    "class_names[y_train[0]]"
   ]
  },
  {
   "cell_type": "code",
   "execution_count": 17,
   "id": "73756686",
   "metadata": {},
   "outputs": [
    {
     "name": "stderr",
     "output_type": "stream",
     "text": [
      "2023-05-08 19:06:27.326241: I tensorflow/core/platform/cpu_feature_guard.cc:193] This TensorFlow binary is optimized with oneAPI Deep Neural Network Library (oneDNN) to use the following CPU instructions in performance-critical operations:  AVX2 FMA\n",
      "To enable them in other operations, rebuild TensorFlow with the appropriate compiler flags.\n"
     ]
    }
   ],
   "source": [
    "tf.random.set_seed(42)\n",
    "model = tf.keras.Sequential()\n",
    "model.add(tf.keras.layers.Input(shape=[28, 28]))\n",
    "model.add(tf.keras.layers.Flatten())\n",
    "model.add(tf.keras.layers.Dense(300, activation=\"relu\"))\n",
    "model.add(tf.keras.layers.Dense(100, activation=\"relu\"))\n",
    "model.add(tf.keras.layers.Dense(10, activation=\"softmax\")) "
   ]
  },
  {
   "cell_type": "code",
   "execution_count": 18,
   "id": "6030e2e5",
   "metadata": {},
   "outputs": [],
   "source": [
    "tf.random.set_seed(42)\n",
    "model = tf.keras.Sequential()\n",
    "model.add(tf.keras.layers.Input(shape=[28, 28]))\n",
    "model.add(tf.keras.layers.Flatten())\n",
    "model.add(tf.keras.layers.Dense(300, activation=\"relu\"))\n",
    "model.add(tf.keras.layers.Dense(100, activation=\"relu\"))\n",
    "model.add(tf.keras.layers.Dense(10, activation=\"softmax\"))\n"
   ]
  },
  {
   "cell_type": "code",
   "execution_count": 19,
   "id": "88637d9b",
   "metadata": {},
   "outputs": [
    {
     "name": "stdout",
     "output_type": "stream",
     "text": [
      "Model: \"sequential_1\"\n",
      "_________________________________________________________________\n",
      " Layer (type)                Output Shape              Param #   \n",
      "=================================================================\n",
      " flatten_1 (Flatten)         (None, 784)               0         \n",
      "                                                                 \n",
      " dense_3 (Dense)             (None, 300)               235500    \n",
      "                                                                 \n",
      " dense_4 (Dense)             (None, 100)               30100     \n",
      "                                                                 \n",
      " dense_5 (Dense)             (None, 10)                1010      \n",
      "                                                                 \n",
      "=================================================================\n",
      "Total params: 266,610\n",
      "Trainable params: 266,610\n",
      "Non-trainable params: 0\n",
      "_________________________________________________________________\n"
     ]
    }
   ],
   "source": [
    "model.summary()"
   ]
  },
  {
   "cell_type": "code",
   "execution_count": 20,
   "id": "b86c4ac6",
   "metadata": {},
   "outputs": [
    {
     "data": {
      "text/plain": [
       "[<keras.layers.reshaping.flatten.Flatten at 0x145d20b50>,\n",
       " <keras.layers.core.dense.Dense at 0x145e36d70>,\n",
       " <keras.layers.core.dense.Dense at 0x145c8bdf0>,\n",
       " <keras.layers.core.dense.Dense at 0x145e58b50>]"
      ]
     },
     "execution_count": 20,
     "metadata": {},
     "output_type": "execute_result"
    }
   ],
   "source": [
    "model.layers"
   ]
  },
  {
   "cell_type": "code",
   "execution_count": 22,
   "id": "a3d076c1",
   "metadata": {},
   "outputs": [],
   "source": [
    "hidden1 = model.layers[1]"
   ]
  },
  {
   "cell_type": "code",
   "execution_count": 23,
   "id": "b3f09b62",
   "metadata": {},
   "outputs": [
    {
     "data": {
      "text/plain": [
       "'dense_3'"
      ]
     },
     "execution_count": 23,
     "metadata": {},
     "output_type": "execute_result"
    }
   ],
   "source": [
    "hidden1.name"
   ]
  },
  {
   "cell_type": "code",
   "execution_count": 25,
   "id": "6347d8ff",
   "metadata": {},
   "outputs": [
    {
     "data": {
      "text/plain": [
       "True"
      ]
     },
     "execution_count": 25,
     "metadata": {},
     "output_type": "execute_result"
    }
   ],
   "source": [
    "model.get_layer('dense_3') is hidden1"
   ]
  },
  {
   "cell_type": "code",
   "execution_count": 26,
   "id": "980b68a5",
   "metadata": {},
   "outputs": [],
   "source": [
    "weights, biases = hidden1.get_weights()"
   ]
  },
  {
   "cell_type": "code",
   "execution_count": 27,
   "id": "425ed873",
   "metadata": {},
   "outputs": [
    {
     "data": {
      "text/plain": [
       "array([[-0.06171361,  0.0293217 , -0.05388897, ...,  0.06441115,\n",
       "         0.02084315,  0.00283218],\n",
       "       [-0.05225495, -0.06904732,  0.00926107, ..., -0.03833615,\n",
       "         0.06817596, -0.06658553],\n",
       "       [-0.03824478, -0.00198987,  0.01059842, ..., -0.054388  ,\n",
       "         0.04202431, -0.07093581],\n",
       "       ...,\n",
       "       [-0.0011293 , -0.06913378, -0.02630683, ..., -0.02452613,\n",
       "         0.02412472,  0.02167475],\n",
       "       [-0.04843716,  0.06699221,  0.01470314, ..., -0.05321722,\n",
       "        -0.03797907, -0.01775091],\n",
       "       [ 0.01864048, -0.05052406, -0.04592517, ..., -0.06391054,\n",
       "        -0.00972158, -0.00251523]], dtype=float32)"
      ]
     },
     "execution_count": 27,
     "metadata": {},
     "output_type": "execute_result"
    }
   ],
   "source": [
    "weights"
   ]
  },
  {
   "cell_type": "code",
   "execution_count": 28,
   "id": "e06d712f",
   "metadata": {},
   "outputs": [
    {
     "data": {
      "text/plain": [
       "(784, 300)"
      ]
     },
     "execution_count": 28,
     "metadata": {},
     "output_type": "execute_result"
    }
   ],
   "source": [
    "weights.shape"
   ]
  },
  {
   "cell_type": "code",
   "execution_count": 29,
   "id": "8ce6c801",
   "metadata": {},
   "outputs": [
    {
     "data": {
      "text/plain": [
       "array([0., 0., 0., 0., 0., 0., 0., 0., 0., 0., 0., 0., 0., 0., 0., 0., 0.,\n",
       "       0., 0., 0., 0., 0., 0., 0., 0., 0., 0., 0., 0., 0., 0., 0., 0., 0.,\n",
       "       0., 0., 0., 0., 0., 0., 0., 0., 0., 0., 0., 0., 0., 0., 0., 0., 0.,\n",
       "       0., 0., 0., 0., 0., 0., 0., 0., 0., 0., 0., 0., 0., 0., 0., 0., 0.,\n",
       "       0., 0., 0., 0., 0., 0., 0., 0., 0., 0., 0., 0., 0., 0., 0., 0., 0.,\n",
       "       0., 0., 0., 0., 0., 0., 0., 0., 0., 0., 0., 0., 0., 0., 0., 0., 0.,\n",
       "       0., 0., 0., 0., 0., 0., 0., 0., 0., 0., 0., 0., 0., 0., 0., 0., 0.,\n",
       "       0., 0., 0., 0., 0., 0., 0., 0., 0., 0., 0., 0., 0., 0., 0., 0., 0.,\n",
       "       0., 0., 0., 0., 0., 0., 0., 0., 0., 0., 0., 0., 0., 0., 0., 0., 0.,\n",
       "       0., 0., 0., 0., 0., 0., 0., 0., 0., 0., 0., 0., 0., 0., 0., 0., 0.,\n",
       "       0., 0., 0., 0., 0., 0., 0., 0., 0., 0., 0., 0., 0., 0., 0., 0., 0.,\n",
       "       0., 0., 0., 0., 0., 0., 0., 0., 0., 0., 0., 0., 0., 0., 0., 0., 0.,\n",
       "       0., 0., 0., 0., 0., 0., 0., 0., 0., 0., 0., 0., 0., 0., 0., 0., 0.,\n",
       "       0., 0., 0., 0., 0., 0., 0., 0., 0., 0., 0., 0., 0., 0., 0., 0., 0.,\n",
       "       0., 0., 0., 0., 0., 0., 0., 0., 0., 0., 0., 0., 0., 0., 0., 0., 0.,\n",
       "       0., 0., 0., 0., 0., 0., 0., 0., 0., 0., 0., 0., 0., 0., 0., 0., 0.,\n",
       "       0., 0., 0., 0., 0., 0., 0., 0., 0., 0., 0., 0., 0., 0., 0., 0., 0.,\n",
       "       0., 0., 0., 0., 0., 0., 0., 0., 0., 0., 0.], dtype=float32)"
      ]
     },
     "execution_count": 29,
     "metadata": {},
     "output_type": "execute_result"
    }
   ],
   "source": [
    "biases"
   ]
  },
  {
   "cell_type": "code",
   "execution_count": 30,
   "id": "aed55de5",
   "metadata": {},
   "outputs": [
    {
     "data": {
      "text/plain": [
       "(300,)"
      ]
     },
     "execution_count": 30,
     "metadata": {},
     "output_type": "execute_result"
    }
   ],
   "source": [
    "biases.shape"
   ]
  },
  {
   "cell_type": "code",
   "execution_count": 31,
   "id": "dc4b8ab1",
   "metadata": {},
   "outputs": [],
   "source": [
    "model.compile(loss=\"sparse_categorical_crossentropy\",\n",
    "              optimizer=\"sgd\",\n",
    "              metrics=[\"accuracy\"])"
   ]
  },
  {
   "cell_type": "code",
   "execution_count": 32,
   "id": "6272ac7c",
   "metadata": {
    "scrolled": true
   },
   "outputs": [
    {
     "name": "stdout",
     "output_type": "stream",
     "text": [
      "Epoch 1/30\n",
      "1719/1719 [==============================] - 4s 2ms/step - loss: 0.7298 - accuracy: 0.7584 - val_loss: 0.5131 - val_accuracy: 0.8256\n",
      "Epoch 2/30\n",
      "1719/1719 [==============================] - 3s 2ms/step - loss: 0.4883 - accuracy: 0.8303 - val_loss: 0.4578 - val_accuracy: 0.8346\n",
      "Epoch 3/30\n",
      "1719/1719 [==============================] - 4s 2ms/step - loss: 0.4395 - accuracy: 0.8453 - val_loss: 0.4212 - val_accuracy: 0.8526\n",
      "Epoch 4/30\n",
      "1719/1719 [==============================] - 4s 3ms/step - loss: 0.4140 - accuracy: 0.8553 - val_loss: 0.3931 - val_accuracy: 0.8618\n",
      "Epoch 5/30\n",
      "1719/1719 [==============================] - 5s 3ms/step - loss: 0.3927 - accuracy: 0.8619 - val_loss: 0.3905 - val_accuracy: 0.8624\n",
      "Epoch 6/30\n",
      "1719/1719 [==============================] - 5s 3ms/step - loss: 0.3760 - accuracy: 0.8674 - val_loss: 0.3889 - val_accuracy: 0.8642\n",
      "Epoch 7/30\n",
      "1719/1719 [==============================] - 5s 3ms/step - loss: 0.3635 - accuracy: 0.8706 - val_loss: 0.3686 - val_accuracy: 0.8712\n",
      "Epoch 8/30\n",
      "1719/1719 [==============================] - 7s 4ms/step - loss: 0.3522 - accuracy: 0.8755 - val_loss: 0.3730 - val_accuracy: 0.8654\n",
      "Epoch 9/30\n",
      "1719/1719 [==============================] - 7s 4ms/step - loss: 0.3416 - accuracy: 0.8794 - val_loss: 0.3455 - val_accuracy: 0.8754\n",
      "Epoch 10/30\n",
      "1719/1719 [==============================] - 6s 3ms/step - loss: 0.3314 - accuracy: 0.8817 - val_loss: 0.3486 - val_accuracy: 0.8772\n",
      "Epoch 11/30\n",
      "1719/1719 [==============================] - 6s 4ms/step - loss: 0.3229 - accuracy: 0.8839 - val_loss: 0.3690 - val_accuracy: 0.8646\n",
      "Epoch 12/30\n",
      "1719/1719 [==============================] - 7s 4ms/step - loss: 0.3152 - accuracy: 0.8873 - val_loss: 0.3466 - val_accuracy: 0.8746\n",
      "Epoch 13/30\n",
      "1719/1719 [==============================] - 7s 4ms/step - loss: 0.3080 - accuracy: 0.8908 - val_loss: 0.3267 - val_accuracy: 0.8818\n",
      "Epoch 14/30\n",
      "1719/1719 [==============================] - 8s 5ms/step - loss: 0.3009 - accuracy: 0.8920 - val_loss: 0.3407 - val_accuracy: 0.8784\n",
      "Epoch 15/30\n",
      "1719/1719 [==============================] - 8s 5ms/step - loss: 0.2949 - accuracy: 0.8943 - val_loss: 0.3360 - val_accuracy: 0.8794\n",
      "Epoch 16/30\n",
      "1719/1719 [==============================] - 8s 5ms/step - loss: 0.2878 - accuracy: 0.8967 - val_loss: 0.3302 - val_accuracy: 0.8796\n",
      "Epoch 17/30\n",
      "1719/1719 [==============================] - 9s 5ms/step - loss: 0.2828 - accuracy: 0.8982 - val_loss: 0.3331 - val_accuracy: 0.8768\n",
      "Epoch 18/30\n",
      "1719/1719 [==============================] - 9s 5ms/step - loss: 0.2773 - accuracy: 0.8993 - val_loss: 0.3243 - val_accuracy: 0.8840\n",
      "Epoch 19/30\n",
      "1719/1719 [==============================] - 9s 5ms/step - loss: 0.2720 - accuracy: 0.9013 - val_loss: 0.3555 - val_accuracy: 0.8644\n",
      "Epoch 20/30\n",
      "1719/1719 [==============================] - 9s 5ms/step - loss: 0.2673 - accuracy: 0.9040 - val_loss: 0.3187 - val_accuracy: 0.8812\n",
      "Epoch 21/30\n",
      "1719/1719 [==============================] - 8s 5ms/step - loss: 0.2618 - accuracy: 0.9049 - val_loss: 0.3160 - val_accuracy: 0.8842\n",
      "Epoch 22/30\n",
      "1719/1719 [==============================] - 8s 5ms/step - loss: 0.2568 - accuracy: 0.9072 - val_loss: 0.3146 - val_accuracy: 0.8858\n",
      "Epoch 23/30\n",
      "1719/1719 [==============================] - 9s 5ms/step - loss: 0.2526 - accuracy: 0.9094 - val_loss: 0.3410 - val_accuracy: 0.8748\n",
      "Epoch 24/30\n",
      "1719/1719 [==============================] - 9s 5ms/step - loss: 0.2478 - accuracy: 0.9104 - val_loss: 0.3206 - val_accuracy: 0.8814\n",
      "Epoch 25/30\n",
      "1719/1719 [==============================] - 9s 5ms/step - loss: 0.2435 - accuracy: 0.9113 - val_loss: 0.3221 - val_accuracy: 0.8818\n",
      "Epoch 26/30\n",
      "1719/1719 [==============================] - 8s 5ms/step - loss: 0.2403 - accuracy: 0.9138 - val_loss: 0.3142 - val_accuracy: 0.8868\n",
      "Epoch 27/30\n",
      "1719/1719 [==============================] - 9s 5ms/step - loss: 0.2349 - accuracy: 0.9139 - val_loss: 0.3209 - val_accuracy: 0.8854\n",
      "Epoch 28/30\n",
      "1719/1719 [==============================] - 9s 5ms/step - loss: 0.2321 - accuracy: 0.9166 - val_loss: 0.3136 - val_accuracy: 0.8858\n",
      "Epoch 29/30\n",
      "1719/1719 [==============================] - 9s 5ms/step - loss: 0.2283 - accuracy: 0.9178 - val_loss: 0.3162 - val_accuracy: 0.8842\n",
      "Epoch 30/30\n",
      "1719/1719 [==============================] - 9s 5ms/step - loss: 0.2246 - accuracy: 0.9185 - val_loss: 0.3095 - val_accuracy: 0.8864\n"
     ]
    }
   ],
   "source": [
    "history = model.fit(X_train, y_train, epochs=30, validation_data=(X_valid, y_valid))"
   ]
  },
  {
   "cell_type": "code",
   "execution_count": 33,
   "id": "ed9d3d6d",
   "metadata": {},
   "outputs": [
    {
     "data": {
      "image/png": "[encoded data removed]",
      "text/plain": [
       "<Figure size 800x500 with 1 Axes>"
      ]
     },
     "metadata": {},
     "output_type": "display_data"
    }
   ],
   "source": [
    "import matplotlib.pyplot as plt\n",
    "import pandas as pd\n",
    "\n",
    "pd.DataFrame(history.history).plot(\n",
    "    figsize=(8, 5), xlim=[0, 29], ylim=[0, 1], grid=True, xlabel=\"Epoch\",\n",
    "    style=[\"r--\", \"r--.\", \"b-\", \"b-*\"])\n",
    "plt.show()"
   ]
  },
  {
   "cell_type": "code",
   "execution_count": 34,
   "id": "799f1487",
   "metadata": {},
   "outputs": [
    {
     "name": "stdout",
     "output_type": "stream",
     "text": [
      "313/313 [==============================] - 1s 3ms/step - loss: 0.3263 - accuracy: 0.8830\n"
     ]
    },
    {
     "data": {
      "text/plain": [
       "[0.3263233006000519, 0.8830000162124634]"
      ]
     },
     "execution_count": 34,
     "metadata": {},
     "output_type": "execute_result"
    }
   ],
   "source": [
    "model.evaluate(X_test, y_test)"
   ]
  },
  {
   "cell_type": "code",
   "execution_count": 35,
   "id": "81d3307b",
   "metadata": {},
   "outputs": [
    {
     "name": "stdout",
     "output_type": "stream",
     "text": [
      "1/1 [==============================] - 0s 95ms/step\n"
     ]
    },
    {
     "data": {
      "text/plain": [
       "array([[0.  , 0.  , 0.  , 0.  , 0.  , 0.  , 0.  , 0.02, 0.  , 0.98],\n",
       "       [0.  , 0.  , 0.99, 0.  , 0.01, 0.  , 0.  , 0.  , 0.  , 0.  ],\n",
       "       [0.  , 1.  , 0.  , 0.  , 0.  , 0.  , 0.  , 0.  , 0.  , 0.  ]],\n",
       "      dtype=float32)"
      ]
     },
     "execution_count": 35,
     "metadata": {},
     "output_type": "execute_result"
    }
   ],
   "source": [
    "X_new = X_test[:3]\n",
    "y_proba = model.predict(X_new)\n",
    "y_proba.round(2)"
   ]
  },
  {
   "cell_type": "code",
   "execution_count": 36,
   "id": "9c9c92ee",
   "metadata": {},
   "outputs": [],
   "source": [
    "import numpy as np"
   ]
  },
  {
   "cell_type": "code",
   "execution_count": 37,
   "id": "e0ed112a",
   "metadata": {},
   "outputs": [],
   "source": [
    "y_pred = y_proba.argmax(axis=-1)"
   ]
  },
  {
   "cell_type": "code",
   "execution_count": 38,
   "id": "2ad431f1",
   "metadata": {},
   "outputs": [
    {
     "data": {
      "text/plain": [
       "array([9, 2, 1])"
      ]
     },
     "execution_count": 38,
     "metadata": {},
     "output_type": "execute_result"
    }
   ],
   "source": [
    "y_pred"
   ]
  },
  {
   "cell_type": "code",
   "execution_count": 39,
   "id": "dd7891e4",
   "metadata": {},
   "outputs": [
    {
     "data": {
      "text/plain": [
       "array(['Ankle boot', 'Pullover', 'Trouser'], dtype='<U11')"
      ]
     },
     "execution_count": 39,
     "metadata": {},
     "output_type": "execute_result"
    }
   ],
   "source": [
    "np.array(class_names)[y_pred]"
   ]
  },
  {
   "cell_type": "code",
   "execution_count": 40,
   "id": "81224d78",
   "metadata": {},
   "outputs": [
    {
     "data": {
      "text/plain": [
       "array([9, 2, 1], dtype=uint8)"
      ]
     },
     "execution_count": 40,
     "metadata": {},
     "output_type": "execute_result"
    }
   ],
   "source": [
    "y_new = y_test[:3]\n",
    "y_new"
   ]
  },
  {
   "cell_type": "code",
   "execution_count": 41,
   "id": "613a1f09",
   "metadata": {},
   "outputs": [
    {
     "name": "stdout",
     "output_type": "stream",
     "text": [
      "Epoch 1/20\n",
      "1719/1719 [==============================] - 5s 3ms/step - loss: 8.5965 - root_mean_squared_error: 2.9320 - val_loss: 8.4135 - val_root_mean_squared_error: 2.9008\n",
      "Epoch 2/20\n",
      "1719/1719 [==============================] - 4s 2ms/step - loss: 8.3018 - root_mean_squared_error: 2.8813 - val_loss: 8.3911 - val_root_mean_squared_error: 2.8969\n",
      "Epoch 3/20\n",
      "1719/1719 [==============================] - 4s 2ms/step - loss: 8.2859 - root_mean_squared_error: 2.8785 - val_loss: 8.3996 - val_root_mean_squared_error: 2.8983\n",
      "Epoch 4/20\n",
      "1719/1719 [==============================] - 4s 2ms/step - loss: 8.2803 - root_mean_squared_error: 2.8776 - val_loss: 8.4584 - val_root_mean_squared_error: 2.9084\n",
      "Epoch 5/20\n",
      "1719/1719 [==============================] - 5s 3ms/step - loss: 8.2744 - root_mean_squared_error: 2.8765 - val_loss: 8.3906 - val_root_mean_squared_error: 2.8969\n",
      "Epoch 6/20\n",
      "1719/1719 [==============================] - 5s 3ms/step - loss: 8.2638 - root_mean_squared_error: 2.8747 - val_loss: 8.3675 - val_root_mean_squared_error: 2.8928\n",
      "Epoch 7/20\n",
      "1719/1719 [==============================] - 5s 3ms/step - loss: 8.2665 - root_mean_squared_error: 2.8751 - val_loss: 8.3766 - val_root_mean_squared_error: 2.8944\n",
      "Epoch 8/20\n",
      "1719/1719 [==============================] - 5s 3ms/step - loss: 8.2589 - root_mean_squared_error: 2.8738 - val_loss: 8.3662 - val_root_mean_squared_error: 2.8926\n",
      "Epoch 9/20\n",
      "1719/1719 [==============================] - 5s 3ms/step - loss: 8.2540 - root_mean_squared_error: 2.8730 - val_loss: 8.3660 - val_root_mean_squared_error: 2.8926\n",
      "Epoch 10/20\n",
      "1719/1719 [==============================] - 5s 3ms/step - loss: 8.2512 - root_mean_squared_error: 2.8725 - val_loss: 8.3737 - val_root_mean_squared_error: 2.8939\n",
      "Epoch 11/20\n",
      "1719/1719 [==============================] - 6s 3ms/step - loss: 8.2517 - root_mean_squared_error: 2.8725 - val_loss: 8.3703 - val_root_mean_squared_error: 2.8933\n",
      "Epoch 12/20\n",
      "1719/1719 [==============================] - 6s 3ms/step - loss: 8.2496 - root_mean_squared_error: 2.8722 - val_loss: 8.3983 - val_root_mean_squared_error: 2.8981\n",
      "Epoch 13/20\n",
      "1719/1719 [==============================] - 6s 3ms/step - loss: 8.2497 - root_mean_squared_error: 2.8722 - val_loss: 8.4122 - val_root_mean_squared_error: 2.9005\n",
      "Epoch 14/20\n",
      "1719/1719 [==============================] - 6s 3ms/step - loss: 8.2480 - root_mean_squared_error: 2.8720 - val_loss: 8.3658 - val_root_mean_squared_error: 2.8926\n",
      "Epoch 15/20\n",
      "1719/1719 [==============================] - 5s 3ms/step - loss: 8.2488 - root_mean_squared_error: 2.8721 - val_loss: 8.3667 - val_root_mean_squared_error: 2.8927\n",
      "Epoch 16/20\n",
      "1719/1719 [==============================] - 6s 3ms/step - loss: 8.2467 - root_mean_squared_error: 2.8717 - val_loss: 8.3670 - val_root_mean_squared_error: 2.8928\n",
      "Epoch 17/20\n",
      "1719/1719 [==============================] - 6s 3ms/step - loss: 8.2455 - root_mean_squared_error: 2.8715 - val_loss: 8.3888 - val_root_mean_squared_error: 2.8965\n",
      "Epoch 18/20\n",
      "1719/1719 [==============================] - 6s 3ms/step - loss: 8.2473 - root_mean_squared_error: 2.8718 - val_loss: 8.3662 - val_root_mean_squared_error: 2.8926\n",
      "Epoch 19/20\n",
      "1719/1719 [==============================] - 6s 3ms/step - loss: 8.2464 - root_mean_squared_error: 2.8717 - val_loss: 8.3672 - val_root_mean_squared_error: 2.8928\n",
      "Epoch 20/20\n",
      "1719/1719 [==============================] - 6s 3ms/step - loss: 8.2475 - root_mean_squared_error: 2.8718 - val_loss: 8.3660 - val_root_mean_squared_error: 2.8926\n",
      "313/313 [==============================] - 1s 3ms/step - loss: 8.2479 - root_mean_squared_error: 2.8719\n",
      "1/1 [==============================] - 0s 143ms/step\n"
     ]
    }
   ],
   "source": [
    "tf.random.set_seed(42)\n",
    "norm_layer = tf.keras.layers.Normalization(input_shape=X_train.shape[1:])\n",
    "model = tf.keras.Sequential([\n",
    "    norm_layer,\n",
    "    tf.keras.layers.Dense(50, activation=\"relu\"),\n",
    "    tf.keras.layers.Dense(50, activation=\"relu\"),\n",
    "    tf.keras.layers.Dense(50, activation=\"relu\"),\n",
    "    tf.keras.layers.Dense(1)\n",
    "])\n",
    "optimizer = tf.keras.optimizers.Adam(learning_rate=1e-3)\n",
    "model.compile(loss=\"mse\", optimizer=optimizer, metrics=[\"RootMeanSquaredError\"])\n",
    "norm_layer.adapt(X_train)\n",
    "history = model.fit(X_train, y_train, epochs=20,validation_data=(X_valid, y_valid))\n",
    "mse_test, rmse_test = model.evaluate(X_test, y_test)\n",
    "X_new = X_test[:3]\n",
    "y_pred = model.predict(X_new)"
   ]
  },
  {
   "cell_type": "code",
   "execution_count": 46,
   "id": "862641c8",
   "metadata": {},
   "outputs": [],
   "source": [
    "normalization_layer = tf.keras.layers.Normalization()\n",
    "hidden_layer1 = tf.keras.layers.Dense(30, activation=\"relu\")\n",
    "hidden_layer2 = tf.keras.layers.Dense(30, activation=\"relu\")\n",
    "concat_layer = tf.keras.layers.Concatenate()\n",
    "output_layer = tf.keras.layers.Dense(1)\n",
    "\n",
    "input_ = tf.keras.layers.Input(shape=X_train.shape[1:])\n",
    "normalized = normalization_layer(input_)\n",
    "hidden1 = hidden_layer1(normalized)\n",
    "hidden2 = hidden_layer2(hidden1)\n",
    "concat = concat_layer([normalized, hidden2])\n",
    "output = output_layer(concat)\n",
    "\n",
    "model = tf.keras.Model(inputs=[input_], outputs=[output])"
   ]
  },
  {
   "cell_type": "code",
   "execution_count": 47,
   "id": "cd8e7765",
   "metadata": {},
   "outputs": [],
   "source": [
    "input_wide = tf.keras.layers.Input(shape=[5])  # features 0 to 4\n",
    "input_deep = tf.keras.layers.Input(shape=[6])  # features 2 to 7\n",
    "norm_layer_wide = tf.keras.layers.Normalization()\n",
    "norm_layer_deep = tf.keras.layers.Normalization()\n",
    "norm_wide = norm_layer_wide(input_wide)\n",
    "norm_deep = norm_layer_deep(input_deep)\n",
    "hidden1 = tf.keras.layers.Dense(30, activation=\"relu\")(norm_deep)\n",
    "hidden2 = tf.keras.layers.Dense(30, activation=\"relu\")(hidden1)\n",
    "concat = tf.keras.layers.concatenate([norm_wide, hidden2])\n",
    "output = tf.keras.layers.Dense(1)(concat)\n",
    "model = tf.keras.Model(inputs=[input_wide, input_deep], outputs=[output])\n"
   ]
  },
  {
   "cell_type": "code",
   "execution_count": 48,
   "id": "259c1c4e",
   "metadata": {},
   "outputs": [
    {
     "name": "stdout",
     "output_type": "stream",
     "text": [
      "Epoch 1/20\n",
      "363/363 [==============================] - 1s 2ms/step - loss: 1.4916 - root_mean_squared_error: 1.2213 - val_loss: 2.8412 - val_root_mean_squared_error: 1.6856\n",
      "Epoch 2/20\n",
      "363/363 [==============================] - 0s 1ms/step - loss: 0.4911 - root_mean_squared_error: 0.7008 - val_loss: 0.4796 - val_root_mean_squared_error: 0.6926\n",
      "Epoch 3/20\n",
      "363/363 [==============================] - 0s 1ms/step - loss: 0.4155 - root_mean_squared_error: 0.6446 - val_loss: 0.4804 - val_root_mean_squared_error: 0.6931\n",
      "Epoch 4/20\n",
      "363/363 [==============================] - 0s 1ms/step - loss: 0.3992 - root_mean_squared_error: 0.6318 - val_loss: 0.4114 - val_root_mean_squared_error: 0.6414\n",
      "Epoch 5/20\n",
      "363/363 [==============================] - 0s 1ms/step - loss: 0.3913 - root_mean_squared_error: 0.6255 - val_loss: 0.3613 - val_root_mean_squared_error: 0.6011\n",
      "Epoch 6/20\n",
      "363/363 [==============================] - 0s 1ms/step - loss: 0.3806 - root_mean_squared_error: 0.6169 - val_loss: 0.3857 - val_root_mean_squared_error: 0.6210\n",
      "Epoch 7/20\n",
      "363/363 [==============================] - 0s 1ms/step - loss: 0.3747 - root_mean_squared_error: 0.6121 - val_loss: 0.5394 - val_root_mean_squared_error: 0.7345\n",
      "Epoch 8/20\n",
      "363/363 [==============================] - 0s 1ms/step - loss: 0.3718 - root_mean_squared_error: 0.6098 - val_loss: 1.3116 - val_root_mean_squared_error: 1.1453\n",
      "Epoch 9/20\n",
      "363/363 [==============================] - 0s 1ms/step - loss: 0.3671 - root_mean_squared_error: 0.6059 - val_loss: 3.3540 - val_root_mean_squared_error: 1.8314\n",
      "Epoch 10/20\n",
      "363/363 [==============================] - 0s 1ms/step - loss: 0.3975 - root_mean_squared_error: 0.6305 - val_loss: 1.5596 - val_root_mean_squared_error: 1.2488\n",
      "Epoch 11/20\n",
      "363/363 [==============================] - 0s 1ms/step - loss: 0.3628 - root_mean_squared_error: 0.6023 - val_loss: 1.3801 - val_root_mean_squared_error: 1.1748\n",
      "Epoch 12/20\n",
      "363/363 [==============================] - 0s 1ms/step - loss: 0.3694 - root_mean_squared_error: 0.6078 - val_loss: 1.4404 - val_root_mean_squared_error: 1.2002\n",
      "Epoch 13/20\n",
      "363/363 [==============================] - 0s 1ms/step - loss: 0.3576 - root_mean_squared_error: 0.5980 - val_loss: 1.9974 - val_root_mean_squared_error: 1.4133\n",
      "Epoch 14/20\n",
      "363/363 [==============================] - 0s 1ms/step - loss: 0.3540 - root_mean_squared_error: 0.5950 - val_loss: 1.2941 - val_root_mean_squared_error: 1.1376\n",
      "Epoch 15/20\n",
      "363/363 [==============================] - 0s 1ms/step - loss: 0.3485 - root_mean_squared_error: 0.5904 - val_loss: 1.3123 - val_root_mean_squared_error: 1.1456\n",
      "Epoch 16/20\n",
      "363/363 [==============================] - 0s 1ms/step - loss: 0.3433 - root_mean_squared_error: 0.5859 - val_loss: 0.7604 - val_root_mean_squared_error: 0.8720\n",
      "Epoch 17/20\n",
      "363/363 [==============================] - 0s 1ms/step - loss: 0.3408 - root_mean_squared_error: 0.5838 - val_loss: 1.0762 - val_root_mean_squared_error: 1.0374\n",
      "Epoch 18/20\n",
      "363/363 [==============================] - 0s 1ms/step - loss: 0.3381 - root_mean_squared_error: 0.5815 - val_loss: 0.7621 - val_root_mean_squared_error: 0.8730\n",
      "Epoch 19/20\n",
      "363/363 [==============================] - 0s 1ms/step - loss: 0.3345 - root_mean_squared_error: 0.5783 - val_loss: 1.5268 - val_root_mean_squared_error: 1.2357\n",
      "Epoch 20/20\n",
      "363/363 [==============================] - 0s 1ms/step - loss: 0.3510 - root_mean_squared_error: 0.5924 - val_loss: 1.0136 - val_root_mean_squared_error: 1.0068\n",
      "162/162 [==============================] - 0s 848us/step - loss: 0.3321 - root_mean_squared_error: 0.5763\n",
      "1/1 [==============================] - 0s 62ms/step\n"
     ]
    }
   ],
   "source": [
    "optimizer = tf.keras.optimizers.Adam(learning_rate=1e-3)\n",
    "model.compile(loss=\"mse\", optimizer=optimizer, metrics=[\"RootMeanSquaredError\"])\n",
    "\n",
    "X_train_wide, X_train_deep = X_train[:, :5], X_train[:, 2:]\n",
    "X_valid_wide, X_valid_deep = X_valid[:, :5], X_valid[:, 2:]\n",
    "X_test_wide, X_test_deep = X_test[:, :5], X_test[:, 2:]\n",
    "X_new_wide, X_new_deep = X_test_wide[:3], X_test_deep[:3]\n",
    "\n",
    "norm_layer_wide.adapt(X_train_wide)\n",
    "norm_layer_deep.adapt(X_train_deep)\n",
    "history = model.fit((X_train_wide, X_train_deep), y_train, epochs=20,\n",
    "                    validation_data=((X_valid_wide, X_valid_deep), y_valid))\n",
    "mse_test = model.evaluate((X_test_wide, X_test_deep), y_test)\n",
    "y_pred = model.predict((X_new_wide, X_new_deep))\n"
   ]
  },
  {
   "cell_type": "code",
   "execution_count": 49,
   "id": "e0b1a51d",
   "metadata": {},
   "outputs": [],
   "source": [
    "input_wide = tf.keras.layers.Input(shape=[5])  # features 0 to 4\n",
    "input_deep = tf.keras.layers.Input(shape=[6])  # features 2 to 7\n",
    "norm_layer_wide = tf.keras.layers.Normalization()\n",
    "norm_layer_deep = tf.keras.layers.Normalization()\n",
    "norm_wide = norm_layer_wide(input_wide)\n",
    "norm_deep = norm_layer_deep(input_deep)\n",
    "hidden1 = tf.keras.layers.Dense(30, activation=\"relu\")(norm_deep)\n",
    "hidden2 = tf.keras.layers.Dense(30, activation=\"relu\")(hidden1)\n",
    "concat = tf.keras.layers.concatenate([norm_wide, hidden2])\n",
    "output = tf.keras.layers.Dense(1)(concat)\n",
    "aux_output = tf.keras.layers.Dense(1)(hidden2)\n",
    "model = tf.keras.Model(inputs=[input_wide, input_deep],\n",
    "                       outputs=[output, aux_output])\n"
   ]
  },
  {
   "cell_type": "code",
   "execution_count": 50,
   "id": "97d00947",
   "metadata": {},
   "outputs": [],
   "source": [
    "optimizer = tf.keras.optimizers.Adam(learning_rate=1e-3)\n",
    "model.compile(loss=(\"mse\", \"mse\"), loss_weights=(0.9, 0.1), optimizer=optimizer,\n",
    "              metrics=[\"RootMeanSquaredError\"])"
   ]
  },
  {
   "cell_type": "code",
   "execution_count": 51,
   "id": "e9c34c18",
   "metadata": {},
   "outputs": [
    {
     "name": "stdout",
     "output_type": "stream",
     "text": [
      "Epoch 1/20\n",
      "363/363 [==============================] - 2s 2ms/step - loss: 1.7773 - dense_24_loss: 1.7349 - dense_25_loss: 2.1585 - dense_24_root_mean_squared_error: 1.3172 - dense_25_root_mean_squared_error: 1.4692 - val_loss: 1.0440 - val_dense_24_loss: 0.8000 - val_dense_25_loss: 3.2399 - val_dense_24_root_mean_squared_error: 0.8944 - val_dense_25_root_mean_squared_error: 1.8000\n",
      "Epoch 2/20\n",
      "363/363 [==============================] - 0s 1ms/step - loss: 0.6096 - dense_24_loss: 0.6009 - dense_25_loss: 0.6879 - dense_24_root_mean_squared_error: 0.7752 - dense_25_root_mean_squared_error: 0.8294 - val_loss: 1.3594 - val_dense_24_loss: 1.0641 - val_dense_25_loss: 4.0165 - val_dense_24_root_mean_squared_error: 1.0316 - val_dense_25_root_mean_squared_error: 2.0041\n",
      "Epoch 3/20\n",
      "363/363 [==============================] - 0s 1ms/step - loss: 0.5067 - dense_24_loss: 0.4972 - dense_25_loss: 0.5920 - dense_24_root_mean_squared_error: 0.7051 - dense_25_root_mean_squared_error: 0.7694 - val_loss: 0.6535 - val_dense_24_loss: 0.6195 - val_dense_25_loss: 0.9589 - val_dense_24_root_mean_squared_error: 0.7871 - val_dense_25_root_mean_squared_error: 0.9792\n",
      "Epoch 4/20\n",
      "363/363 [==============================] - 0s 1ms/step - loss: 0.4526 - dense_24_loss: 0.4431 - dense_25_loss: 0.5388 - dense_24_root_mean_squared_error: 0.6656 - dense_25_root_mean_squared_error: 0.7340 - val_loss: 0.9604 - val_dense_24_loss: 0.9992 - val_dense_25_loss: 0.6110 - val_dense_24_root_mean_squared_error: 0.9996 - val_dense_25_root_mean_squared_error: 0.7816\n",
      "Epoch 5/20\n",
      "363/363 [==============================] - 0s 1ms/step - loss: 0.4224 - dense_24_loss: 0.4123 - dense_25_loss: 0.5138 - dense_24_root_mean_squared_error: 0.6421 - dense_25_root_mean_squared_error: 0.7168 - val_loss: 1.2123 - val_dense_24_loss: 1.2465 - val_dense_25_loss: 0.9044 - val_dense_24_root_mean_squared_error: 1.1165 - val_dense_25_root_mean_squared_error: 0.9510\n",
      "Epoch 6/20\n",
      "363/363 [==============================] - 0s 1ms/step - loss: 0.4052 - dense_24_loss: 0.3942 - dense_25_loss: 0.5035 - dense_24_root_mean_squared_error: 0.6279 - dense_25_root_mean_squared_error: 0.7096 - val_loss: 0.8506 - val_dense_24_loss: 0.8871 - val_dense_25_loss: 0.5228 - val_dense_24_root_mean_squared_error: 0.9418 - val_dense_25_root_mean_squared_error: 0.7231\n",
      "Epoch 7/20\n",
      "363/363 [==============================] - 0s 1ms/step - loss: 0.3903 - dense_24_loss: 0.3799 - dense_25_loss: 0.4836 - dense_24_root_mean_squared_error: 0.6164 - dense_25_root_mean_squared_error: 0.6954 - val_loss: 1.7308 - val_dense_24_loss: 1.7668 - val_dense_25_loss: 1.4070 - val_dense_24_root_mean_squared_error: 1.3292 - val_dense_25_root_mean_squared_error: 1.1862\n",
      "Epoch 8/20\n",
      "363/363 [==============================] - 0s 1ms/step - loss: 0.3827 - dense_24_loss: 0.3720 - dense_25_loss: 0.4782 - dense_24_root_mean_squared_error: 0.6100 - dense_25_root_mean_squared_error: 0.6915 - val_loss: 2.4793 - val_dense_24_loss: 2.6297 - val_dense_25_loss: 1.1251 - val_dense_24_root_mean_squared_error: 1.6216 - val_dense_25_root_mean_squared_error: 1.0607\n",
      "Epoch 9/20\n",
      "363/363 [==============================] - 1s 1ms/step - loss: 0.3824 - dense_24_loss: 0.3728 - dense_25_loss: 0.4694 - dense_24_root_mean_squared_error: 0.6105 - dense_25_root_mean_squared_error: 0.6851 - val_loss: 1.9509 - val_dense_24_loss: 1.9799 - val_dense_25_loss: 1.6902 - val_dense_24_root_mean_squared_error: 1.4071 - val_dense_25_root_mean_squared_error: 1.3001\n",
      "Epoch 10/20\n",
      "363/363 [==============================] - 0s 1ms/step - loss: 0.3779 - dense_24_loss: 0.3683 - dense_25_loss: 0.4649 - dense_24_root_mean_squared_error: 0.6068 - dense_25_root_mean_squared_error: 0.6819 - val_loss: 0.4924 - val_dense_24_loss: 0.4955 - val_dense_25_loss: 0.4639 - val_dense_24_root_mean_squared_error: 0.7039 - val_dense_25_root_mean_squared_error: 0.6811\n",
      "Epoch 11/20\n",
      "363/363 [==============================] - 0s 1ms/step - loss: 0.3626 - dense_24_loss: 0.3532 - dense_25_loss: 0.4469 - dense_24_root_mean_squared_error: 0.5943 - dense_25_root_mean_squared_error: 0.6685 - val_loss: 0.7656 - val_dense_24_loss: 0.7271 - val_dense_25_loss: 1.1128 - val_dense_24_root_mean_squared_error: 0.8527 - val_dense_25_root_mean_squared_error: 1.0549\n",
      "Epoch 12/20\n",
      "363/363 [==============================] - 0s 1ms/step - loss: 0.3678 - dense_24_loss: 0.3582 - dense_25_loss: 0.4548 - dense_24_root_mean_squared_error: 0.5985 - dense_25_root_mean_squared_error: 0.6744 - val_loss: 1.1124 - val_dense_24_loss: 1.1350 - val_dense_25_loss: 0.9094 - val_dense_24_root_mean_squared_error: 1.0654 - val_dense_25_root_mean_squared_error: 0.9536\n",
      "Epoch 13/20\n",
      "363/363 [==============================] - 0s 1ms/step - loss: 0.3628 - dense_24_loss: 0.3540 - dense_25_loss: 0.4421 - dense_24_root_mean_squared_error: 0.5949 - dense_25_root_mean_squared_error: 0.6649 - val_loss: 1.1254 - val_dense_24_loss: 1.1641 - val_dense_25_loss: 0.7763 - val_dense_24_root_mean_squared_error: 1.0790 - val_dense_25_root_mean_squared_error: 0.8811\n",
      "Epoch 14/20\n",
      "363/363 [==============================] - 1s 2ms/step - loss: 0.3542 - dense_24_loss: 0.3455 - dense_25_loss: 0.4325 - dense_24_root_mean_squared_error: 0.5878 - dense_25_root_mean_squared_error: 0.6577 - val_loss: 0.5039 - val_dense_24_loss: 0.5079 - val_dense_25_loss: 0.4681 - val_dense_24_root_mean_squared_error: 0.7127 - val_dense_25_root_mean_squared_error: 0.6842\n",
      "Epoch 15/20\n",
      "363/363 [==============================] - 0s 1ms/step - loss: 0.3513 - dense_24_loss: 0.3430 - dense_25_loss: 0.4256 - dense_24_root_mean_squared_error: 0.5857 - dense_25_root_mean_squared_error: 0.6524 - val_loss: 0.8624 - val_dense_24_loss: 0.8629 - val_dense_25_loss: 0.8573 - val_dense_24_root_mean_squared_error: 0.9289 - val_dense_25_root_mean_squared_error: 0.9259\n",
      "Epoch 16/20\n",
      "363/363 [==============================] - 0s 1ms/step - loss: 0.3478 - dense_24_loss: 0.3396 - dense_25_loss: 0.4217 - dense_24_root_mean_squared_error: 0.5827 - dense_25_root_mean_squared_error: 0.6494 - val_loss: 0.5778 - val_dense_24_loss: 0.5842 - val_dense_25_loss: 0.5201 - val_dense_24_root_mean_squared_error: 0.7644 - val_dense_25_root_mean_squared_error: 0.7212\n",
      "Epoch 17/20\n",
      "363/363 [==============================] - 0s 1ms/step - loss: 0.3484 - dense_24_loss: 0.3406 - dense_25_loss: 0.4184 - dense_24_root_mean_squared_error: 0.5836 - dense_25_root_mean_squared_error: 0.6468 - val_loss: 1.2192 - val_dense_24_loss: 1.2382 - val_dense_25_loss: 1.0478 - val_dense_24_root_mean_squared_error: 1.1128 - val_dense_25_root_mean_squared_error: 1.0236\n",
      "Epoch 18/20\n",
      "363/363 [==============================] - 0s 1ms/step - loss: 0.3453 - dense_24_loss: 0.3377 - dense_25_loss: 0.4136 - dense_24_root_mean_squared_error: 0.5811 - dense_25_root_mean_squared_error: 0.6432 - val_loss: 0.5389 - val_dense_24_loss: 0.5424 - val_dense_25_loss: 0.5080 - val_dense_24_root_mean_squared_error: 0.7365 - val_dense_25_root_mean_squared_error: 0.7127\n",
      "Epoch 19/20\n",
      "363/363 [==============================] - 0s 1ms/step - loss: 0.3458 - dense_24_loss: 0.3381 - dense_25_loss: 0.4155 - dense_24_root_mean_squared_error: 0.5814 - dense_25_root_mean_squared_error: 0.6446 - val_loss: 0.8352 - val_dense_24_loss: 0.8345 - val_dense_25_loss: 0.8419 - val_dense_24_root_mean_squared_error: 0.9135 - val_dense_25_root_mean_squared_error: 0.9176\n",
      "Epoch 20/20\n",
      "363/363 [==============================] - 0s 1ms/step - loss: 0.3426 - dense_24_loss: 0.3357 - dense_25_loss: 0.4052 - dense_24_root_mean_squared_error: 0.5794 - dense_25_root_mean_squared_error: 0.6365 - val_loss: 0.3862 - val_dense_24_loss: 0.3830 - val_dense_25_loss: 0.4154 - val_dense_24_root_mean_squared_error: 0.6189 - val_dense_25_root_mean_squared_error: 0.6445\n"
     ]
    }
   ],
   "source": [
    "norm_layer_wide.adapt(X_train_wide)\n",
    "norm_layer_deep.adapt(X_train_deep)\n",
    "history = model.fit(\n",
    "    (X_train_wide, X_train_deep), (y_train, y_train), epochs=20,\n",
    "    validation_data=((X_valid_wide, X_valid_deep), (y_valid, y_valid))\n",
    ")"
   ]
  },
  {
   "cell_type": "code",
   "execution_count": 52,
   "id": "9594acb5",
   "metadata": {},
   "outputs": [
    {
     "name": "stdout",
     "output_type": "stream",
     "text": [
      "162/162 [==============================] - 0s 1ms/step - loss: 0.3351 - dense_24_loss: 0.3283 - dense_25_loss: 0.3958 - dense_24_root_mean_squared_error: 0.5730 - dense_25_root_mean_squared_error: 0.6291\n"
     ]
    }
   ],
   "source": [
    "eval_results = model.evaluate((X_test_wide, X_test_deep), (y_test, y_test))\n",
    "weighted_sum_of_losses, main_loss, aux_loss, main_rmse, aux_rmse = eval_results\n"
   ]
  },
  {
   "cell_type": "code",
   "execution_count": 53,
   "id": "83fe2c58",
   "metadata": {},
   "outputs": [
    {
     "name": "stdout",
     "output_type": "stream",
     "text": [
      "1/1 [==============================] - 0s 80ms/step\n"
     ]
    }
   ],
   "source": [
    "y_pred_main, y_pred_aux = model.predict((X_new_wide, X_new_deep))"
   ]
  },
  {
   "cell_type": "code",
   "execution_count": 54,
   "id": "fb0b4185",
   "metadata": {},
   "outputs": [
    {
     "name": "stdout",
     "output_type": "stream",
     "text": [
      "1/1 [==============================] - 0s 19ms/step\n"
     ]
    }
   ],
   "source": [
    "y_pred_tuple = model.predict((X_new_wide, X_new_deep))\n",
    "y_pred = dict(zip(model.output_names, y_pred_tuple))"
   ]
  },
  {
   "cell_type": "code",
   "execution_count": 55,
   "id": "e89c35e4",
   "metadata": {},
   "outputs": [],
   "source": [
    "class WideAndDeepModel(tf.keras.Model):\n",
    "    def __init__(self, units=30, activation=\"relu\", **kwargs):\n",
    "        super().__init__(**kwargs)  # needed to support naming the model\n",
    "        self.norm_layer_wide = tf.keras.layers.Normalization()\n",
    "        self.norm_layer_deep = tf.keras.layers.Normalization()\n",
    "        self.hidden1 = tf.keras.layers.Dense(units, activation=activation)\n",
    "        self.hidden2 = tf.keras.layers.Dense(units, activation=activation)\n",
    "        self.main_output = tf.keras.layers.Dense(1)\n",
    "        self.aux_output = tf.keras.layers.Dense(1)\n",
    "\n",
    "    def call(self, inputs):\n",
    "        input_wide, input_deep = inputs\n",
    "        norm_wide = self.norm_layer_wide(input_wide)\n",
    "        norm_deep = self.norm_layer_deep(input_deep)\n",
    "        hidden1 = self.hidden1(norm_deep)\n",
    "        hidden2 = self.hidden2(hidden1)\n",
    "        concat = tf.keras.layers.concatenate([norm_wide, hidden2])\n",
    "        output = self.main_output(concat)\n",
    "        aux_output = self.aux_output(hidden2)\n",
    "        return output, aux_output\n",
    "\n",
    "model = WideAndDeepModel(30, activation=\"relu\", name=\"my_cool_model\")\n",
    "\n"
   ]
  },
  {
   "cell_type": "code",
   "execution_count": 58,
   "id": "38db47d9",
   "metadata": {},
   "outputs": [
    {
     "name": "stdout",
     "output_type": "stream",
     "text": [
      "Epoch 1/20\n",
      "363/363 [==============================] - 2s 2ms/step - loss: 761.9725 - output_1_loss: 637.0640 - output_2_loss: 1886.1497 - output_1_root_mean_squared_error: 25.2401 - output_2_root_mean_squared_error: 43.4298 - val_loss: 8.5108 - val_output_1_loss: 6.9878 - val_output_2_loss: 22.2172 - val_output_1_root_mean_squared_error: 2.6434 - val_output_2_root_mean_squared_error: 4.7135\n",
      "Epoch 2/20\n",
      "363/363 [==============================] - 0s 1ms/step - loss: 3.1850 - output_1_loss: 3.2297 - output_2_loss: 2.7820 - output_1_root_mean_squared_error: 1.7971 - output_2_root_mean_squared_error: 1.6679 - val_loss: 5.0870 - val_output_1_loss: 3.1538 - val_output_2_loss: 22.4852 - val_output_1_root_mean_squared_error: 1.7759 - val_output_2_root_mean_squared_error: 4.7419\n",
      "Epoch 3/20\n",
      "363/363 [==============================] - 1s 2ms/step - loss: 2.0768 - output_1_loss: 2.0532 - output_2_loss: 2.2896 - output_1_root_mean_squared_error: 1.4329 - output_2_root_mean_squared_error: 1.5132 - val_loss: 4.4658 - val_output_1_loss: 2.4731 - val_output_2_loss: 22.3997 - val_output_1_root_mean_squared_error: 1.5726 - val_output_2_root_mean_squared_error: 4.7328\n",
      "Epoch 4/20\n",
      "363/363 [==============================] - 0s 1ms/step - loss: 1.6555 - output_1_loss: 1.6013 - output_2_loss: 2.1432 - output_1_root_mean_squared_error: 1.2654 - output_2_root_mean_squared_error: 1.4640 - val_loss: 4.7677 - val_output_1_loss: 2.6838 - val_output_2_loss: 23.5226 - val_output_1_root_mean_squared_error: 1.6382 - val_output_2_root_mean_squared_error: 4.8500\n",
      "Epoch 5/20\n",
      "363/363 [==============================] - 0s 1ms/step - loss: 1.4714 - output_1_loss: 1.3904 - output_2_loss: 2.2003 - output_1_root_mean_squared_error: 1.1792 - output_2_root_mean_squared_error: 1.4833 - val_loss: 4.7474 - val_output_1_loss: 2.7697 - val_output_2_loss: 22.5467 - val_output_1_root_mean_squared_error: 1.6642 - val_output_2_root_mean_squared_error: 4.7483\n",
      "Epoch 6/20\n",
      "363/363 [==============================] - 0s 1ms/step - loss: 1.6455 - output_1_loss: 1.5908 - output_2_loss: 2.1376 - output_1_root_mean_squared_error: 1.2613 - output_2_root_mean_squared_error: 1.4621 - val_loss: 4.8743 - val_output_1_loss: 3.0347 - val_output_2_loss: 21.4310 - val_output_1_root_mean_squared_error: 1.7420 - val_output_2_root_mean_squared_error: 4.6294\n",
      "Epoch 7/20\n",
      "363/363 [==============================] - 0s 1ms/step - loss: 1.2379 - output_1_loss: 1.1060 - output_2_loss: 2.4248 - output_1_root_mean_squared_error: 1.0517 - output_2_root_mean_squared_error: 1.5572 - val_loss: 13.9356 - val_output_1_loss: 13.1269 - val_output_2_loss: 21.2139 - val_output_1_root_mean_squared_error: 3.6231 - val_output_2_root_mean_squared_error: 4.6059\n",
      "Epoch 8/20\n",
      "363/363 [==============================] - 0s 1ms/step - loss: 4.0404 - output_1_loss: 4.2329 - output_2_loss: 2.3086 - output_1_root_mean_squared_error: 2.0574 - output_2_root_mean_squared_error: 1.5194 - val_loss: 3.9545 - val_output_1_loss: 2.5345 - val_output_2_loss: 16.7345 - val_output_1_root_mean_squared_error: 1.5920 - val_output_2_root_mean_squared_error: 4.0908\n",
      "Epoch 9/20\n",
      "363/363 [==============================] - 0s 1ms/step - loss: 1.9599 - output_1_loss: 1.9438 - output_2_loss: 2.1047 - output_1_root_mean_squared_error: 1.3942 - output_2_root_mean_squared_error: 1.4508 - val_loss: 6.1626 - val_output_1_loss: 5.1974 - val_output_2_loss: 14.8493 - val_output_1_root_mean_squared_error: 2.2798 - val_output_2_root_mean_squared_error: 3.8535\n",
      "Epoch 10/20\n",
      "363/363 [==============================] - 0s 1ms/step - loss: 1.2973 - output_1_loss: 1.2188 - output_2_loss: 2.0034 - output_1_root_mean_squared_error: 1.1040 - output_2_root_mean_squared_error: 1.4154 - val_loss: 3.4191 - val_output_1_loss: 2.2833 - val_output_2_loss: 13.6416 - val_output_1_root_mean_squared_error: 1.5111 - val_output_2_root_mean_squared_error: 3.6935\n",
      "Epoch 11/20\n",
      "363/363 [==============================] - 0s 1ms/step - loss: 2.2135 - output_1_loss: 2.2373 - output_2_loss: 2.0002 - output_1_root_mean_squared_error: 1.4957 - output_2_root_mean_squared_error: 1.4143 - val_loss: 3.8149 - val_output_1_loss: 2.5181 - val_output_2_loss: 15.4859 - val_output_1_root_mean_squared_error: 1.5869 - val_output_2_root_mean_squared_error: 3.9352\n",
      "Epoch 12/20\n",
      "363/363 [==============================] - 0s 1ms/step - loss: 1.6145 - output_1_loss: 1.5351 - output_2_loss: 2.3288 - output_1_root_mean_squared_error: 1.2390 - output_2_root_mean_squared_error: 1.5261 - val_loss: 4.4151 - val_output_1_loss: 3.7050 - val_output_2_loss: 10.8057 - val_output_1_root_mean_squared_error: 1.9248 - val_output_2_root_mean_squared_error: 3.2872\n",
      "Epoch 13/20\n",
      "363/363 [==============================] - 0s 1ms/step - loss: 6.0354 - output_1_loss: 6.4400 - output_2_loss: 2.3944 - output_1_root_mean_squared_error: 2.5377 - output_2_root_mean_squared_error: 1.5474 - val_loss: 3.4013 - val_output_1_loss: 2.7946 - val_output_2_loss: 8.8608 - val_output_1_root_mean_squared_error: 1.6717 - val_output_2_root_mean_squared_error: 2.9767\n",
      "Epoch 14/20\n",
      "363/363 [==============================] - 0s 1ms/step - loss: 3.1618 - output_1_loss: 3.3072 - output_2_loss: 1.8540 - output_1_root_mean_squared_error: 1.8186 - output_2_root_mean_squared_error: 1.3616 - val_loss: 2.7917 - val_output_1_loss: 2.1751 - val_output_2_loss: 8.3406 - val_output_1_root_mean_squared_error: 1.4748 - val_output_2_root_mean_squared_error: 2.8880\n",
      "Epoch 15/20\n",
      "363/363 [==============================] - 0s 1ms/step - loss: 1.5408 - output_1_loss: 1.5053 - output_2_loss: 1.8607 - output_1_root_mean_squared_error: 1.2269 - output_2_root_mean_squared_error: 1.3641 - val_loss: 2.8796 - val_output_1_loss: 2.2688 - val_output_2_loss: 8.3768 - val_output_1_root_mean_squared_error: 1.5063 - val_output_2_root_mean_squared_error: 2.8943\n",
      "Epoch 16/20\n",
      "363/363 [==============================] - 0s 1ms/step - loss: 2.2767 - output_1_loss: 2.3172 - output_2_loss: 1.9119 - output_1_root_mean_squared_error: 1.5222 - output_2_root_mean_squared_error: 1.3827 - val_loss: 4.3899 - val_output_1_loss: 4.1176 - val_output_2_loss: 6.8404 - val_output_1_root_mean_squared_error: 2.0292 - val_output_2_root_mean_squared_error: 2.6154\n",
      "Epoch 17/20\n",
      "363/363 [==============================] - 0s 1ms/step - loss: 13.3064 - output_1_loss: 14.5010 - output_2_loss: 2.5554 - output_1_root_mean_squared_error: 3.8080 - output_2_root_mean_squared_error: 1.5986 - val_loss: 3.5815 - val_output_1_loss: 3.2129 - val_output_2_loss: 6.8984 - val_output_1_root_mean_squared_error: 1.7925 - val_output_2_root_mean_squared_error: 2.6265\n",
      "Epoch 18/20\n",
      "363/363 [==============================] - 0s 1ms/step - loss: 2.0804 - output_1_loss: 2.1097 - output_2_loss: 1.8159 - output_1_root_mean_squared_error: 1.4525 - output_2_root_mean_squared_error: 1.3476 - val_loss: 1.4422 - val_output_1_loss: 0.9350 - val_output_2_loss: 6.0074 - val_output_1_root_mean_squared_error: 0.9669 - val_output_2_root_mean_squared_error: 2.4510\n",
      "Epoch 19/20\n",
      "363/363 [==============================] - 0s 1ms/step - loss: 1.3324 - output_1_loss: 1.2885 - output_2_loss: 1.7272 - output_1_root_mean_squared_error: 1.1351 - output_2_root_mean_squared_error: 1.3142 - val_loss: 8.3073 - val_output_1_loss: 8.7263 - val_output_2_loss: 4.5361 - val_output_1_root_mean_squared_error: 2.9540 - val_output_2_root_mean_squared_error: 2.1298\n",
      "Epoch 20/20\n",
      "363/363 [==============================] - 0s 1ms/step - loss: 1.4671 - output_1_loss: 1.4369 - output_2_loss: 1.7395 - output_1_root_mean_squared_error: 1.1987 - output_2_root_mean_squared_error: 1.3189 - val_loss: 1.2526 - val_output_1_loss: 0.9391 - val_output_2_loss: 4.0743 - val_output_1_root_mean_squared_error: 0.9691 - val_output_2_root_mean_squared_error: 2.0185\n"
     ]
    },
    {
     "name": "stderr",
     "output_type": "stream",
     "text": [
      "WARNING:absl:Found untraced functions such as _update_step_xla while saving (showing 1 of 1). These functions will not be directly callable after loading.\n"
     ]
    },
    {
     "name": "stdout",
     "output_type": "stream",
     "text": [
      "INFO:tensorflow:Assets written to: my_keras_model/assets\n"
     ]
    },
    {
     "name": "stderr",
     "output_type": "stream",
     "text": [
      "INFO:tensorflow:Assets written to: my_keras_model/assets\n"
     ]
    }
   ],
   "source": [
    "optimizer = tf.keras.optimizers.Adam(learning_rate=1e-3)\n",
    "model.compile(loss=(\"mse\", \"mse\"), loss_weights=(0.9, 0.1), optimizer=optimizer,\n",
    "              metrics=[\"RootMeanSquaredError\"])\n",
    "norm_layer_wide.adapt(X_train_wide)\n",
    "norm_layer_deep.adapt(X_train_deep)\n",
    "history = model.fit(\n",
    "    (X_train_wide, X_train_deep), (y_train, y_train), epochs=20,\n",
    "    validation_data=((X_valid_wide, X_valid_deep), (y_valid, y_valid))\n",
    ")\n",
    "model.save(\"my_keras_model\", save_format=\"tf\")"
   ]
  },
  {
   "cell_type": "code",
   "execution_count": 59,
   "id": "aa872331",
   "metadata": {},
   "outputs": [
    {
     "name": "stdout",
     "output_type": "stream",
     "text": [
      "WARNING:tensorflow:5 out of the last 6 calls to <function Model.make_predict_function.<locals>.predict_function at 0x1478235b0> triggered tf.function retracing. Tracing is expensive and the excessive number of tracings could be due to (1) creating @tf.function repeatedly in a loop, (2) passing tensors with different shapes, (3) passing Python objects instead of tensors. For (1), please define your @tf.function outside of the loop. For (2), @tf.function has reduce_retracing=True option that can avoid unnecessary retracing. For (3), please refer to https://www.tensorflow.org/guide/function#controlling_retracing and https://www.tensorflow.org/api_docs/python/tf/function for  more details.\n"
     ]
    },
    {
     "name": "stderr",
     "output_type": "stream",
     "text": [
      "WARNING:tensorflow:5 out of the last 6 calls to <function Model.make_predict_function.<locals>.predict_function at 0x1478235b0> triggered tf.function retracing. Tracing is expensive and the excessive number of tracings could be due to (1) creating @tf.function repeatedly in a loop, (2) passing tensors with different shapes, (3) passing Python objects instead of tensors. For (1), please define your @tf.function outside of the loop. For (2), @tf.function has reduce_retracing=True option that can avoid unnecessary retracing. For (3), please refer to https://www.tensorflow.org/guide/function#controlling_retracing and https://www.tensorflow.org/api_docs/python/tf/function for  more details.\n"
     ]
    },
    {
     "name": "stdout",
     "output_type": "stream",
     "text": [
      "1/1 [==============================] - 0s 82ms/step\n"
     ]
    }
   ],
   "source": [
    "model = tf.keras.models.load_model(\"my_keras_model\")\n",
    "y_pred_main, y_pred_aux = model.predict((X_new_wide, X_new_deep))"
   ]
  },
  {
   "cell_type": "code",
   "execution_count": 65,
   "id": "f1d7067c",
   "metadata": {},
   "outputs": [
    {
     "name": "stdout",
     "output_type": "stream",
     "text": [
      "Epoch 1/20\n"
     ]
    },
    {
     "name": "stderr",
     "output_type": "stream",
     "text": [
      "2023-05-11 17:19:21.365701: I tensorflow/core/profiler/lib/profiler_session.cc:101] Profiler session initializing.\n",
      "2023-05-11 17:19:21.365729: I tensorflow/core/profiler/lib/profiler_session.cc:116] Profiler session started.\n",
      "2023-05-11 17:19:21.366182: I tensorflow/core/profiler/lib/profiler_session.cc:128] Profiler session tear down.\n"
     ]
    },
    {
     "name": "stdout",
     "output_type": "stream",
     "text": [
      "269/363 [=====================>........] - ETA: 0s - loss: 1.2817 - output_1_loss: 1.1539 - output_2_loss: 2.4326 - output_1_root_mean_squared_error: 1.0742 - output_2_root_mean_squared_error: 1.5597"
     ]
    },
    {
     "name": "stderr",
     "output_type": "stream",
     "text": [
      "2023-05-11 17:19:21.856118: I tensorflow/core/profiler/lib/profiler_session.cc:101] Profiler session initializing.\n",
      "2023-05-11 17:19:21.856130: I tensorflow/core/profiler/lib/profiler_session.cc:116] Profiler session started.\n",
      "2023-05-11 17:19:21.963996: I tensorflow/core/profiler/lib/profiler_session.cc:67] Profiler session collecting data.\n",
      "2023-05-11 17:19:21.972298: I tensorflow/core/profiler/lib/profiler_session.cc:128] Profiler session tear down.\n",
      "2023-05-11 17:19:21.975389: I tensorflow/core/profiler/rpc/client/save_profile.cc:164] Collecting XSpace to repository: my_logs/run_2023_05_11_17_19_17/plugins/profile/2023_05_11_17_19_21/jerrys-mbp.lan.xplane.pb\n"
     ]
    },
    {
     "name": "stdout",
     "output_type": "stream",
     "text": [
      "363/363 [==============================] - 1s 2ms/step - loss: 1.9926 - output_1_loss: 1.9425 - output_2_loss: 2.4440 - output_1_root_mean_squared_error: 1.3937 - output_2_root_mean_squared_error: 1.5633 - val_loss: 10.7478 - val_output_1_loss: 11.5547 - val_output_2_loss: 3.4854 - val_output_1_root_mean_squared_error: 3.3992 - val_output_2_root_mean_squared_error: 1.8669\n",
      "Epoch 2/20\n",
      "363/363 [==============================] - 1s 2ms/step - loss: 1.5319 - output_1_loss: 1.5100 - output_2_loss: 1.7285 - output_1_root_mean_squared_error: 1.2288 - output_2_root_mean_squared_error: 1.3147 - val_loss: 3.8686 - val_output_1_loss: 4.0534 - val_output_2_loss: 2.2055 - val_output_1_root_mean_squared_error: 2.0133 - val_output_2_root_mean_squared_error: 1.4851\n",
      "Epoch 3/20\n",
      "363/363 [==============================] - 1s 2ms/step - loss: 2.7310 - output_1_loss: 2.8629 - output_2_loss: 1.5441 - output_1_root_mean_squared_error: 1.6920 - output_2_root_mean_squared_error: 1.2426 - val_loss: 1.0236 - val_output_1_loss: 0.8117 - val_output_2_loss: 2.9309 - val_output_1_root_mean_squared_error: 0.9009 - val_output_2_root_mean_squared_error: 1.7120\n",
      "Epoch 4/20\n",
      "363/363 [==============================] - 1s 1ms/step - loss: 1.1450 - output_1_loss: 1.0903 - output_2_loss: 1.6369 - output_1_root_mean_squared_error: 1.0442 - output_2_root_mean_squared_error: 1.2794 - val_loss: 1.0659 - val_output_1_loss: 0.8890 - val_output_2_loss: 2.6574 - val_output_1_root_mean_squared_error: 0.9429 - val_output_2_root_mean_squared_error: 1.6302\n",
      "Epoch 5/20\n",
      "363/363 [==============================] - 1s 1ms/step - loss: 1.3810 - output_1_loss: 1.3274 - output_2_loss: 1.8632 - output_1_root_mean_squared_error: 1.1521 - output_2_root_mean_squared_error: 1.3650 - val_loss: 1.3595 - val_output_1_loss: 0.8381 - val_output_2_loss: 6.0524 - val_output_1_root_mean_squared_error: 0.9155 - val_output_2_root_mean_squared_error: 2.4602\n",
      "Epoch 6/20\n",
      "363/363 [==============================] - 1s 1ms/step - loss: 18.1712 - output_1_loss: 19.8473 - output_2_loss: 3.0870 - output_1_root_mean_squared_error: 4.4550 - output_2_root_mean_squared_error: 1.7570 - val_loss: 1.0319 - val_output_1_loss: 0.8791 - val_output_2_loss: 2.4065 - val_output_1_root_mean_squared_error: 0.9376 - val_output_2_root_mean_squared_error: 1.5513\n",
      "Epoch 7/20\n",
      "363/363 [==============================] - 1s 1ms/step - loss: 0.8972 - output_1_loss: 0.8093 - output_2_loss: 1.6882 - output_1_root_mean_squared_error: 0.8996 - output_2_root_mean_squared_error: 1.2993 - val_loss: 0.9593 - val_output_1_loss: 0.8104 - val_output_2_loss: 2.2993 - val_output_1_root_mean_squared_error: 0.9002 - val_output_2_root_mean_squared_error: 1.5163\n",
      "Epoch 8/20\n",
      "363/363 [==============================] - 1s 1ms/step - loss: 0.7820 - output_1_loss: 0.7126 - output_2_loss: 1.4066 - output_1_root_mean_squared_error: 0.8442 - output_2_root_mean_squared_error: 1.1860 - val_loss: 0.8507 - val_output_1_loss: 0.7057 - val_output_2_loss: 2.1558 - val_output_1_root_mean_squared_error: 0.8401 - val_output_2_root_mean_squared_error: 1.4683\n",
      "Epoch 9/20\n",
      "363/363 [==============================] - 1s 2ms/step - loss: 0.8137 - output_1_loss: 0.7478 - output_2_loss: 1.4061 - output_1_root_mean_squared_error: 0.8648 - output_2_root_mean_squared_error: 1.1858 - val_loss: 0.8981 - val_output_1_loss: 0.7487 - val_output_2_loss: 2.2430 - val_output_1_root_mean_squared_error: 0.8653 - val_output_2_root_mean_squared_error: 1.4977\n",
      "Epoch 10/20\n",
      "363/363 [==============================] - 1s 2ms/step - loss: 0.9087 - output_1_loss: 0.8438 - output_2_loss: 1.4926 - output_1_root_mean_squared_error: 0.9186 - output_2_root_mean_squared_error: 1.2217 - val_loss: 1.7252 - val_output_1_loss: 1.6513 - val_output_2_loss: 2.3903 - val_output_1_root_mean_squared_error: 1.2850 - val_output_2_root_mean_squared_error: 1.5461\n",
      "Epoch 11/20\n",
      "363/363 [==============================] - 1s 2ms/step - loss: 1.6341 - output_1_loss: 1.6501 - output_2_loss: 1.4907 - output_1_root_mean_squared_error: 1.2845 - output_2_root_mean_squared_error: 1.2209 - val_loss: 4.2818 - val_output_1_loss: 4.4412 - val_output_2_loss: 2.8472 - val_output_1_root_mean_squared_error: 2.1074 - val_output_2_root_mean_squared_error: 1.6874\n",
      "Epoch 12/20\n",
      "363/363 [==============================] - 1s 1ms/step - loss: 1.0132 - output_1_loss: 0.9645 - output_2_loss: 1.4509 - output_1_root_mean_squared_error: 0.9821 - output_2_root_mean_squared_error: 1.2045 - val_loss: 1.0140 - val_output_1_loss: 0.8294 - val_output_2_loss: 2.6759 - val_output_1_root_mean_squared_error: 0.9107 - val_output_2_root_mean_squared_error: 1.6358\n",
      "Epoch 13/20\n",
      "363/363 [==============================] - 1s 2ms/step - loss: 1.9498 - output_1_loss: 2.0079 - output_2_loss: 1.4268 - output_1_root_mean_squared_error: 1.4170 - output_2_root_mean_squared_error: 1.1945 - val_loss: 3.7348 - val_output_1_loss: 3.7028 - val_output_2_loss: 4.0228 - val_output_1_root_mean_squared_error: 1.9243 - val_output_2_root_mean_squared_error: 2.0057\n",
      "Epoch 14/20\n",
      "363/363 [==============================] - 1s 1ms/step - loss: 2.3749 - output_1_loss: 2.4535 - output_2_loss: 1.6672 - output_1_root_mean_squared_error: 1.5664 - output_2_root_mean_squared_error: 1.2912 - val_loss: 0.9947 - val_output_1_loss: 0.7757 - val_output_2_loss: 2.9654 - val_output_1_root_mean_squared_error: 0.8807 - val_output_2_root_mean_squared_error: 1.7220\n",
      "Epoch 15/20\n",
      "363/363 [==============================] - 1s 1ms/step - loss: 1.0514 - output_1_loss: 1.0125 - output_2_loss: 1.4013 - output_1_root_mean_squared_error: 1.0062 - output_2_root_mean_squared_error: 1.1837 - val_loss: 1.2445 - val_output_1_loss: 1.0058 - val_output_2_loss: 3.3927 - val_output_1_root_mean_squared_error: 1.0029 - val_output_2_root_mean_squared_error: 1.8419\n",
      "Epoch 16/20\n",
      "363/363 [==============================] - 1s 2ms/step - loss: 5.7129 - output_1_loss: 6.1581 - output_2_loss: 1.7066 - output_1_root_mean_squared_error: 2.4815 - output_2_root_mean_squared_error: 1.3064 - val_loss: 2.5307 - val_output_1_loss: 2.4273 - val_output_2_loss: 3.4621 - val_output_1_root_mean_squared_error: 1.5580 - val_output_2_root_mean_squared_error: 1.8607\n",
      "Epoch 17/20\n",
      "363/363 [==============================] - 1s 2ms/step - loss: 0.9069 - output_1_loss: 0.8238 - output_2_loss: 1.6550 - output_1_root_mean_squared_error: 0.9076 - output_2_root_mean_squared_error: 1.2865 - val_loss: 1.5643 - val_output_1_loss: 1.3447 - val_output_2_loss: 3.5406 - val_output_1_root_mean_squared_error: 1.1596 - val_output_2_root_mean_squared_error: 1.8816\n",
      "Epoch 18/20\n",
      "363/363 [==============================] - 1s 1ms/step - loss: 2.2074 - output_1_loss: 2.2778 - output_2_loss: 1.5736 - output_1_root_mean_squared_error: 1.5092 - output_2_root_mean_squared_error: 1.2544 - val_loss: 2.0207 - val_output_1_loss: 1.6763 - val_output_2_loss: 5.1201 - val_output_1_root_mean_squared_error: 1.2947 - val_output_2_root_mean_squared_error: 2.2628\n"
     ]
    }
   ],
   "source": [
    "checkpoint_cb = tf.keras.callbacks.ModelCheckpoint(\"my_checkpoints\",\n",
    "                                                   save_weights_only=True)\n",
    "early_stopping_cb = tf.keras.callbacks.EarlyStopping(patience=10,\n",
    "                                                     restore_best_weights=True)\n",
    "tensorboard_cb = tf.keras.callbacks.TensorBoard(run_logdir,\n",
    "                                                profile_batch=(100, 200))\n",
    "\n",
    "history = model.fit(\n",
    "    (X_train_wide, X_train_deep), (y_train, y_train), epochs=20,\n",
    "    validation_data=((X_valid_wide, X_valid_deep), (y_valid, y_valid)),\n",
    "callbacks=[checkpoint_cb, early_stopping_cb, tensorboard_cb])\n"
   ]
  },
  {
   "cell_type": "code",
   "execution_count": 63,
   "id": "06b6c6cb",
   "metadata": {},
   "outputs": [],
   "source": [
    "# Custom callback for val loss: train loss ratio\n",
    "class PrintValTrainRatioCallback(tf.keras.callbacks.Callback):\n",
    "    def on_epoch_end(self, epoch, logs):\n",
    "        ratio = logs[\"val_loss\"] / logs[\"loss\"]\n",
    "        print(f\"Epoch={epoch}, val/train={ratio:.2f}\")"
   ]
  },
  {
   "cell_type": "code",
   "execution_count": 64,
   "id": "ed644099",
   "metadata": {},
   "outputs": [],
   "source": [
    "from pathlib import Path\n",
    "from time import strftime\n",
    "\n",
    "def get_run_logdir(root_logdir=\"my_logs\"):\n",
    "    return Path(root_logdir) / strftime(\"run_%Y_%m_%d_%H_%M_%S\")\n",
    "\n",
    "run_logdir = get_run_logdir()  # e.g., my_logs/run_2022_08_01_17_25_59\n",
    "\n"
   ]
  },
  {
   "cell_type": "code",
   "execution_count": 66,
   "id": "33c2e0b3",
   "metadata": {},
   "outputs": [
    {
     "data": {
      "text/html": [
       "\n",
       "      <iframe id=\"tensorboard-frame-8c5a38ce34ffa1e6\" width=\"100%\" height=\"800\" frameborder=\"0\">\n",
       "      </iframe>\n",
       "      <script>\n",
       "        (function() {\n",
       "          const frame = document.getElementById(\"tensorboard-frame-8c5a38ce34ffa1e6\");\n",
       "          const url = new URL(\"/\", window.location);\n",
       "          const port = 6006;\n",
       "          if (port) {\n",
       "            url.port = port;\n",
       "          }\n",
       "          frame.src = url;\n",
       "        })();\n",
       "      </script>\n",
       "    "
      ],
      "text/plain": [
       "<IPython.core.display.HTML object>"
      ]
     },
     "metadata": {},
     "output_type": "display_data"
    }
   ],
   "source": [
    "%load_ext tensorboard\n",
    "%tensorboard --logdir=./my_logs\n"
   ]
  },
  {
   "cell_type": "code",
   "execution_count": 68,
   "id": "983a3f20",
   "metadata": {},
   "outputs": [],
   "source": [
    "test_logdir = get_run_logdir()\n",
    "writer = tf.summary.create_file_writer(str(test_logdir))\n",
    "with writer.as_default():\n",
    "    for step in range(1, 1000 + 1):\n",
    "        tf.summary.scalar(\"my_scalar\", np.sin(step / 10), step=step)\n",
    "\n",
    "        data = (np.random.randn(100) + 2) * step / 100  # gets larger\n",
    "        tf.summary.histogram(\"my_hist\", data, buckets=50, step=step)\n",
    "\n",
    "        images = np.random.rand(2, 32, 32, 3) * step / 1000  # gets brighter\n",
    "        tf.summary.image(\"my_images\", images, step=step)\n",
    "\n",
    "        texts = [\"The step is \" + str(step), \"Its square is \" + str(step ** 2)]\n",
    "        tf.summary.text(\"my_text\", texts, step=step)\n",
    "\n",
    "        sine_wave = tf.math.sin(tf.range(12000) / 48000 * 2 * np.pi * step)\n",
    "        audio = tf.reshape(tf.cast(sine_wave, tf.float32), [1, -1, 1])\n",
    "        tf.summary.audio(\"my_audio\", audio, sample_rate=48000, step=step)\n"
   ]
  },
  {
   "cell_type": "markdown",
   "id": "c87de5ef",
   "metadata": {},
   "source": [
    "### Fine tuning hyperparameters"
   ]
  },
  {
   "cell_type": "code",
   "execution_count": 70,
   "id": "f592dacd",
   "metadata": {},
   "outputs": [],
   "source": [
    "import keras_tuner as kt\n",
    "\n",
    "def build_model(hp):\n",
    "    n_hidden = hp.Int(\"n_hidden\", min_value=0, max_value=8, default=2)\n",
    "    n_neurons = hp.Int(\"n_neurons\", min_value=16, max_value=256)\n",
    "    learning_rate = hp.Float(\"learning_rate\", min_value=1e-4, max_value=1e-2,\n",
    "                             sampling=\"log\")\n",
    "    optimizer = hp.Choice(\"optimizer\", values=[\"sgd\", \"adam\"])\n",
    "    if optimizer == \"sgd\":\n",
    "        optimizer = tf.keras.optimizers.SGD(learning_rate=learning_rate)\n",
    "    else:\n",
    "        optimizer = tf.keras.optimizers.Adam(learning_rate=learning_rate)\n",
    "\n",
    "    model = tf.keras.Sequential()\n",
    "    model.add(tf.keras.layers.Flatten())\n",
    "    for _ in range(n_hidden):\n",
    "        model.add(tf.keras.layers.Dense(n_neurons, activation=\"relu\"))\n",
    "    model.add(tf.keras.layers.Dense(10, activation=\"softmax\"))\n",
    "    model.compile(loss=\"sparse_categorical_crossentropy\", optimizer=optimizer,\n",
    "                  metrics=[\"accuracy\"])\n",
    "    return model\n",
    "\n"
   ]
  },
  {
   "cell_type": "code",
   "execution_count": 72,
   "id": "f14207da",
   "metadata": {},
   "outputs": [
    {
     "name": "stdout",
     "output_type": "stream",
     "text": [
      "Trial 10 Complete [00h 00m 07s]\n",
      "val_accuracy: 0.005426356568932533\n",
      "\n",
      "Best val_accuracy So Far: 0.005426356568932533\n",
      "Total elapsed time: 00h 00m 34s\n",
      "INFO:tensorflow:Oracle triggered exit\n"
     ]
    },
    {
     "name": "stderr",
     "output_type": "stream",
     "text": [
      "INFO:tensorflow:Oracle triggered exit\n"
     ]
    }
   ],
   "source": [
    "random_search_tuner = kt.RandomSearch(\n",
    "    build_model, objective=\"val_accuracy\", max_trials=10, overwrite=False,\n",
    "    directory=\"my_fashion_mnist\", project_name=\"my_rnd_search\", seed=42)\n",
    "random_search_tuner.search(X_train, y_train, epochs=10,\n",
    "                           validation_data=(X_valid, y_valid))\n"
   ]
  },
  {
   "cell_type": "code",
   "execution_count": 73,
   "id": "a49d082b",
   "metadata": {},
   "outputs": [],
   "source": [
    "top3_models = random_search_tuner.get_best_models(num_models=3)\n",
    "best_model = top3_models[0]"
   ]
  },
  {
   "cell_type": "code",
   "execution_count": 74,
   "id": "812867cd",
   "metadata": {},
   "outputs": [
    {
     "data": {
      "text/plain": [
       "{'n_hidden': 7,\n",
       " 'n_neurons': 51,\n",
       " 'learning_rate': 0.0003491260272208854,\n",
       " 'optimizer': 'adam'}"
      ]
     },
     "execution_count": 74,
     "metadata": {},
     "output_type": "execute_result"
    }
   ],
   "source": [
    "top3_params = random_search_tuner.get_best_hyperparameters(num_trials=3)\n",
    "top3_params[0].values"
   ]
  },
  {
   "cell_type": "code",
   "execution_count": 75,
   "id": "35f8e417",
   "metadata": {},
   "outputs": [
    {
     "name": "stdout",
     "output_type": "stream",
     "text": [
      "Trial 09 summary\n",
      "Hyperparameters:\n",
      "n_hidden: 7\n",
      "n_neurons: 51\n",
      "learning_rate: 0.0003491260272208854\n",
      "optimizer: adam\n",
      "Score: 0.005426356568932533\n"
     ]
    }
   ],
   "source": [
    "best_trial = random_search_tuner.oracle.get_best_trials(num_trials=1)[0]\n",
    "best_trial.summary()"
   ]
  },
  {
   "cell_type": "code",
   "execution_count": 76,
   "id": "0303d621",
   "metadata": {},
   "outputs": [
    {
     "data": {
      "text/plain": [
       "0.005426356568932533"
      ]
     },
     "execution_count": 76,
     "metadata": {},
     "output_type": "execute_result"
    }
   ],
   "source": [
    "best_trial.metrics.get_last_value(\"val_accuracy\")"
   ]
  },
  {
   "cell_type": "code",
   "execution_count": 77,
   "id": "c4e82258",
   "metadata": {},
   "outputs": [
    {
     "name": "stdout",
     "output_type": "stream",
     "text": [
      "Epoch 1/10\n",
      "484/484 [==============================] - 2s 1ms/step - loss: 1.1962 - accuracy: 0.0024\n",
      "Epoch 2/10\n",
      "484/484 [==============================] - 1s 1ms/step - loss: 1.1824 - accuracy: 0.0028\n",
      "Epoch 3/10\n",
      "484/484 [==============================] - 1s 1ms/step - loss: 1.1826 - accuracy: 0.0028\n",
      "Epoch 4/10\n",
      "484/484 [==============================] - 1s 1ms/step - loss: 1.1792 - accuracy: 0.0025\n",
      "Epoch 5/10\n",
      "484/484 [==============================] - 1s 1ms/step - loss: 1.1630 - accuracy: 0.0025\n",
      "Epoch 6/10\n",
      "484/484 [==============================] - 0s 1ms/step - loss: 1.1533 - accuracy: 0.0025\n",
      "Epoch 7/10\n",
      "484/484 [==============================] - 1s 1ms/step - loss: 1.1515 - accuracy: 0.0025\n",
      "Epoch 8/10\n",
      "484/484 [==============================] - 1s 1ms/step - loss: 1.1520 - accuracy: 0.0027\n",
      "Epoch 9/10\n",
      "484/484 [==============================] - 1s 1ms/step - loss: 1.1460 - accuracy: 0.0024\n",
      "Epoch 10/10\n",
      "484/484 [==============================] - 0s 1ms/step - loss: 1.1344 - accuracy: 0.0025\n",
      "162/162 [==============================] - 0s 739us/step - loss: 1.4595 - accuracy: 0.0029\n"
     ]
    }
   ],
   "source": [
    "best_model.fit(X_train_full, y_train_full, epochs=10)\n",
    "test_loss, test_accuracy = best_model.evaluate(X_test, y_test)\n"
   ]
  },
  {
   "cell_type": "code",
   "execution_count": 78,
   "id": "86fd5569",
   "metadata": {},
   "outputs": [],
   "source": [
    "class MyClassificationHyperModel(kt.HyperModel):\n",
    "    def build(self, hp):\n",
    "        return build_model(hp)\n",
    "\n",
    "    def fit(self, hp, model, X, y, **kwargs):\n",
    "        if hp.Boolean(\"normalize\"):\n",
    "            norm_layer = tf.keras.layers.Normalization()\n",
    "            X = norm_layer(X)\n",
    "        return model.fit(X, y, **kwargs)"
   ]
  },
  {
   "cell_type": "code",
   "execution_count": 79,
   "id": "7681e717",
   "metadata": {},
   "outputs": [],
   "source": [
    "hyperband_tuner = kt.Hyperband(\n",
    "    MyClassificationHyperModel(), objective=\"val_accuracy\", seed=42,\n",
    "    max_epochs=10, factor=3, hyperband_iterations=2,\n",
    "    overwrite=True, directory=\"my_fashion_mnist\", project_name=\"hyperband\")\n"
   ]
  },
  {
   "cell_type": "code",
   "execution_count": 80,
   "id": "cbda87eb",
   "metadata": {},
   "outputs": [
    {
     "name": "stdout",
     "output_type": "stream",
     "text": [
      "Trial 60 Complete [00h 00m 04s]\n",
      "val_accuracy: 0.004392764996737242\n",
      "\n",
      "Best val_accuracy So Far: 0.004909560550004244\n",
      "Total elapsed time: 00h 03m 20s\n",
      "INFO:tensorflow:Oracle triggered exit\n"
     ]
    },
    {
     "name": "stderr",
     "output_type": "stream",
     "text": [
      "INFO:tensorflow:Oracle triggered exit\n"
     ]
    }
   ],
   "source": [
    "root_logdir = Path(hyperband_tuner.project_dir) / \"tensorboard\"\n",
    "tensorboard_cb = tf.keras.callbacks.TensorBoard(root_logdir)\n",
    "early_stopping_cb = tf.keras.callbacks.EarlyStopping(patience=2)\n",
    "hyperband_tuner.search(X_train, y_train, epochs=10,\n",
    "                       validation_data=(X_valid, y_valid),\n",
    "                       callbacks=[early_stopping_cb, tensorboard_cb])"
   ]
  },
  {
   "cell_type": "code",
   "execution_count": null,
   "id": "f59bfb59",
   "metadata": {},
   "outputs": [],
   "source": []
  }
 ],
 "metadata": {
  "kernelspec": {
   "display_name": "Python 3 (ipykernel)",
   "language": "python",
   "name": "python3"
  },
  "language_info": {
   "codemirror_mode": {
    "name": "ipython",
    "version": 3
   },
   "file_extension": ".py",
   "mimetype": "text/x-python",
   "name": "python",
   "nbconvert_exporter": "python",
   "pygments_lexer": "ipython3",
   "version": "3.10.10"
  }
 },
 "nbformat": 4,
 "nbformat_minor": 5
}
