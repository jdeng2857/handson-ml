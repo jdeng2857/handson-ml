{
 "cells": [
  {
   "cell_type": "code",
   "execution_count": 1,
   "id": "89114fc1",
   "metadata": {},
   "outputs": [
    {
     "name": "stderr",
     "output_type": "stream",
     "text": [
      "2023-06-26 20:24:43.067366: I tensorflow/core/platform/cpu_feature_guard.cc:182] This TensorFlow binary is optimized to use available CPU instructions in performance-critical operations.\n",
      "To enable the following instructions: AVX2 FMA, in other operations, rebuild TensorFlow with the appropriate compiler flags.\n"
     ]
    }
   ],
   "source": [
    "import tensorflow as tf\n",
    "dense = tf.keras.layers.Dense(50, activation=\"relu\", kernel_initializer=\"he_normal\")"
   ]
  },
  {
   "cell_type": "code",
   "execution_count": 2,
   "id": "7ba91f52",
   "metadata": {},
   "outputs": [],
   "source": [
    "he_avg_init = tf.keras.initializers.VarianceScaling(scale=2., mode=\"fan_avg\",\n",
    "                                                    distribution=\"uniform\")\n",
    "dense = tf.keras.layers.Dense(50, activation=\"sigmoid\",\n",
    "                              kernel_initializer=he_avg_init)\n"
   ]
  },
  {
   "cell_type": "code",
   "execution_count": 3,
   "id": "bf7042d4",
   "metadata": {},
   "outputs": [],
   "source": [
    "# Leaky ReLU is better than regular ReLU\n",
    "leaky_relu = tf.keras.layers.LeakyReLU(alpha=0.2)  # defaults to alpha=0.3\n",
    "dense = tf.keras.layers.Dense(50, activation=leaky_relu,\n",
    "                              kernel_initializer=\"he_normal\")\n"
   ]
  },
  {
   "cell_type": "code",
   "execution_count": 4,
   "id": "623c7d88",
   "metadata": {},
   "outputs": [],
   "source": [
    "# Batch normalization in keras\n",
    "model = tf.keras.Sequential([\n",
    "    tf.keras.layers.Flatten(input_shape=[28, 28]),\n",
    "    tf.keras.layers.BatchNormalization(),\n",
    "    tf.keras.layers.Dense(300, activation=\"relu\",\n",
    "                          kernel_initializer=\"he_normal\"),\n",
    "    tf.keras.layers.BatchNormalization(),\n",
    "    tf.keras.layers.Dense(100, activation=\"relu\",\n",
    "                          kernel_initializer=\"he_normal\"),\n",
    "    tf.keras.layers.BatchNormalization(),\n",
    "    tf.keras.layers.Dense(10, activation=\"softmax\")\n",
    "])"
   ]
  },
  {
   "cell_type": "code",
   "execution_count": 5,
   "id": "8dc83fd1",
   "metadata": {},
   "outputs": [
    {
     "name": "stdout",
     "output_type": "stream",
     "text": [
      "Model: \"sequential\"\n",
      "_________________________________________________________________\n",
      " Layer (type)                Output Shape              Param #   \n",
      "=================================================================\n",
      " flatten (Flatten)           (None, 784)               0         \n",
      "                                                                 \n",
      " batch_normalization (BatchN  (None, 784)              3136      \n",
      " ormalization)                                                   \n",
      "                                                                 \n",
      " dense_3 (Dense)             (None, 300)               235500    \n",
      "                                                                 \n",
      " batch_normalization_1 (Batc  (None, 300)              1200      \n",
      " hNormalization)                                                 \n",
      "                                                                 \n",
      " dense_4 (Dense)             (None, 100)               30100     \n",
      "                                                                 \n",
      " batch_normalization_2 (Batc  (None, 100)              400       \n",
      " hNormalization)                                                 \n",
      "                                                                 \n",
      " dense_5 (Dense)             (None, 10)                1010      \n",
      "                                                                 \n",
      "=================================================================\n",
      "Total params: 271,346\n",
      "Trainable params: 268,978\n",
      "Non-trainable params: 2,368\n",
      "_________________________________________________________________\n"
     ]
    }
   ],
   "source": [
    "model.summary()"
   ]
  },
  {
   "cell_type": "code",
   "execution_count": 6,
   "id": "d06a25b2",
   "metadata": {},
   "outputs": [
    {
     "data": {
      "text/plain": [
       "[('batch_normalization/gamma:0', True),\n",
       " ('batch_normalization/beta:0', True),\n",
       " ('batch_normalization/moving_mean:0', False),\n",
       " ('batch_normalization/moving_variance:0', False)]"
      ]
     },
     "execution_count": 6,
     "metadata": {},
     "output_type": "execute_result"
    }
   ],
   "source": [
    "[(var.name, var.trainable) for var in model.layers[1].variables]"
   ]
  },
  {
   "cell_type": "code",
   "execution_count": 7,
   "id": "b6fc524c",
   "metadata": {},
   "outputs": [],
   "source": [
    "model = tf.keras.Sequential([\n",
    "    tf.keras.layers.Flatten(input_shape=[28, 28]),\n",
    "    tf.keras.layers.Dense(300, kernel_initializer=\"he_normal\", use_bias=False),\n",
    "    tf.keras.layers.BatchNormalization(),\n",
    "    tf.keras.layers.Activation(\"relu\"),\n",
    "    tf.keras.layers.Dense(100, kernel_initializer=\"he_normal\", use_bias=False),\n",
    "    tf.keras.layers.BatchNormalization(),\n",
    "    tf.keras.layers.Activation(\"relu\"),\n",
    "    tf.keras.layers.Dense(10, activation=\"softmax\")\n",
    "])\n"
   ]
  },
  {
   "cell_type": "code",
   "execution_count": 8,
   "id": "c472f5a1",
   "metadata": {},
   "outputs": [],
   "source": [
    "# Gradient clipping\n",
    "optimizer = tf.keras.optimizers.SGD(clipvalue=1.0)\n",
    "model.compile(optimizer=optimizer)\n"
   ]
  },
  {
   "cell_type": "code",
   "execution_count": 12,
   "id": "60ffe5f5",
   "metadata": {},
   "outputs": [
    {
     "name": "stdout",
     "output_type": "stream",
     "text": [
      "Epoch 1/20\n",
      "1376/1376 [==============================] - 2s 1ms/step - loss: 1.2435 - accuracy: 0.6356 - val_loss: 0.7593 - val_accuracy: 0.7659\n",
      "Epoch 2/20\n",
      "1376/1376 [==============================] - 2s 1ms/step - loss: 0.6516 - accuracy: 0.7922 - val_loss: 0.5509 - val_accuracy: 0.8235\n",
      "Epoch 3/20\n",
      "1376/1376 [==============================] - 2s 1ms/step - loss: 0.5242 - accuracy: 0.8328 - val_loss: 0.4721 - val_accuracy: 0.8403\n",
      "Epoch 4/20\n",
      "1376/1376 [==============================] - 2s 2ms/step - loss: 0.4592 - accuracy: 0.8513 - val_loss: 0.4221 - val_accuracy: 0.8581\n",
      "Epoch 5/20\n",
      "1376/1376 [==============================] - 2s 2ms/step - loss: 0.4165 - accuracy: 0.8639 - val_loss: 0.3889 - val_accuracy: 0.8669\n",
      "Epoch 6/20\n",
      "1376/1376 [==============================] - 2s 2ms/step - loss: 0.3862 - accuracy: 0.8730 - val_loss: 0.3663 - val_accuracy: 0.8744\n",
      "Epoch 7/20\n",
      "1376/1376 [==============================] - 2s 2ms/step - loss: 0.3642 - accuracy: 0.8784 - val_loss: 0.3489 - val_accuracy: 0.8797\n",
      "Epoch 8/20\n",
      "1376/1376 [==============================] - 2s 2ms/step - loss: 0.3469 - accuracy: 0.8830 - val_loss: 0.3384 - val_accuracy: 0.8837\n",
      "Epoch 9/20\n",
      "1376/1376 [==============================] - 2s 2ms/step - loss: 0.3338 - accuracy: 0.8880 - val_loss: 0.3258 - val_accuracy: 0.8892\n",
      "Epoch 10/20\n",
      "1376/1376 [==============================] - 3s 2ms/step - loss: 0.3228 - accuracy: 0.8900 - val_loss: 0.3191 - val_accuracy: 0.8922\n",
      "Epoch 11/20\n",
      "1376/1376 [==============================] - 3s 2ms/step - loss: 0.3134 - accuracy: 0.8928 - val_loss: 0.3129 - val_accuracy: 0.8942\n",
      "Epoch 12/20\n",
      "1376/1376 [==============================] - 3s 2ms/step - loss: 0.3056 - accuracy: 0.8964 - val_loss: 0.3091 - val_accuracy: 0.8947\n",
      "Epoch 13/20\n",
      "1376/1376 [==============================] - 3s 2ms/step - loss: 0.2994 - accuracy: 0.8971 - val_loss: 0.3005 - val_accuracy: 0.8962\n",
      "Epoch 14/20\n",
      "1376/1376 [==============================] - 3s 2ms/step - loss: 0.2930 - accuracy: 0.9000 - val_loss: 0.2943 - val_accuracy: 0.8947\n",
      "Epoch 15/20\n",
      "1376/1376 [==============================] - 3s 2ms/step - loss: 0.2879 - accuracy: 0.9006 - val_loss: 0.2899 - val_accuracy: 0.9005\n",
      "Epoch 16/20\n",
      "1376/1376 [==============================] - 3s 2ms/step - loss: 0.2828 - accuracy: 0.9024 - val_loss: 0.2883 - val_accuracy: 0.9000\n",
      "Epoch 17/20\n",
      "1376/1376 [==============================] - 3s 2ms/step - loss: 0.2785 - accuracy: 0.9044 - val_loss: 0.2837 - val_accuracy: 0.9025\n",
      "Epoch 18/20\n",
      "1376/1376 [==============================] - 3s 3ms/step - loss: 0.2738 - accuracy: 0.9050 - val_loss: 0.2830 - val_accuracy: 0.9027\n",
      "Epoch 19/20\n",
      "1376/1376 [==============================] - 3s 2ms/step - loss: 0.2702 - accuracy: 0.9067 - val_loss: 0.2784 - val_accuracy: 0.9037\n",
      "Epoch 20/20\n",
      "1376/1376 [==============================] - 3s 2ms/step - loss: 0.2663 - accuracy: 0.9082 - val_loss: 0.2786 - val_accuracy: 0.9055\n"
     ]
    },
    {
     "name": "stderr",
     "output_type": "stream",
     "text": [
      "WARNING:absl:Found untraced functions such as _update_step_xla while saving (showing 1 of 1). These functions will not be directly callable after loading.\n"
     ]
    },
    {
     "name": "stdout",
     "output_type": "stream",
     "text": [
      "INFO:tensorflow:Assets written to: my_model_A/assets\n"
     ]
    },
    {
     "name": "stderr",
     "output_type": "stream",
     "text": [
      "INFO:tensorflow:Assets written to: my_model_A/assets\n"
     ]
    }
   ],
   "source": [
    "# extra code – split Fashion MNIST into tasks A and B, then train and save\n",
    "#              model A to \"my_model_A\".\n",
    "import numpy as np\n",
    "fashion_mnist = tf.keras.datasets.fashion_mnist.load_data()\n",
    "(X_train_full, y_train_full), (X_test, y_test) = fashion_mnist\n",
    "X_train, y_train = X_train_full[:-5000], y_train_full[:-5000]\n",
    "X_valid, y_valid = X_train_full[-5000:], y_train_full[-5000:]\n",
    "X_train, X_valid, X_test = X_train / 255, X_valid / 255, X_test / 255\n",
    "class_names = [\"T-shirt/top\", \"Trouser\", \"Pullover\", \"Dress\", \"Coat\",\n",
    "               \"Sandal\", \"Shirt\", \"Sneaker\", \"Bag\", \"Ankle boot\"]\n",
    "pos_class_id = class_names.index(\"Pullover\")\n",
    "neg_class_id = class_names.index(\"T-shirt/top\")\n",
    "\n",
    "def split_dataset(X, y):\n",
    "    y_for_B = (y == pos_class_id) | (y == neg_class_id)\n",
    "    y_A = y[~y_for_B]\n",
    "    y_B = (y[y_for_B] == pos_class_id).astype(np.float32)\n",
    "    old_class_ids = list(set(range(10)) - set([neg_class_id, pos_class_id]))\n",
    "    for old_class_id, new_class_id in zip(old_class_ids, range(8)):\n",
    "        y_A[y_A == old_class_id] = new_class_id  # reorder class ids for A\n",
    "    return ((X[~y_for_B], y_A), (X[y_for_B], y_B))\n",
    "\n",
    "(X_train_A, y_train_A), (X_train_B, y_train_B) = split_dataset(X_train, y_train)\n",
    "(X_valid_A, y_valid_A), (X_valid_B, y_valid_B) = split_dataset(X_valid, y_valid)\n",
    "(X_test_A, y_test_A), (X_test_B, y_test_B) = split_dataset(X_test, y_test)\n",
    "X_train_B = X_train_B[:200]\n",
    "y_train_B = y_train_B[:200]\n",
    "\n",
    "tf.random.set_seed(42)\n",
    "\n",
    "model_A = tf.keras.Sequential([\n",
    "    tf.keras.layers.Flatten(input_shape=[28, 28]),\n",
    "    tf.keras.layers.Dense(100, activation=\"relu\",\n",
    "                          kernel_initializer=\"he_normal\"),\n",
    "    tf.keras.layers.Dense(100, activation=\"relu\",\n",
    "                          kernel_initializer=\"he_normal\"),\n",
    "    tf.keras.layers.Dense(100, activation=\"relu\",\n",
    "                          kernel_initializer=\"he_normal\"),\n",
    "    tf.keras.layers.Dense(8, activation=\"softmax\")\n",
    "])\n",
    "\n",
    "model_A.compile(loss=\"sparse_categorical_crossentropy\",\n",
    "                optimizer=tf.keras.optimizers.SGD(learning_rate=0.001),\n",
    "                metrics=[\"accuracy\"])\n",
    "history = model_A.fit(X_train_A, y_train_A, epochs=20,\n",
    "                      validation_data=(X_valid_A, y_valid_A))\n",
    "model_A.save(\"my_model_A\")"
   ]
  },
  {
   "cell_type": "code",
   "execution_count": 13,
   "id": "45e3ba45",
   "metadata": {},
   "outputs": [],
   "source": [
    "model_A = tf.keras.models.load_model(\"my_model_A\")\n",
    "model_B_on_A = tf.keras.Sequential(model_A.layers[:-1])\n",
    "model_B_on_A.add(tf.keras.layers.Dense(1, activation=\"sigmoid\"))\n",
    "model_A_clone = tf.keras.models.clone_model(model_A)\n",
    "model_A_clone.set_weights(model_A.get_weights())"
   ]
  },
  {
   "cell_type": "code",
   "execution_count": 14,
   "id": "c6b91556",
   "metadata": {},
   "outputs": [],
   "source": [
    "for layer in model_B_on_A.layers[:-1]:\n",
    "    layer.trainable = False\n",
    "\n",
    "optimizer = tf.keras.optimizers.SGD(learning_rate=0.001)\n",
    "model_B_on_A.compile(loss=\"binary_crossentropy\", optimizer=optimizer,\n",
    "                     metrics=[\"accuracy\"])"
   ]
  },
  {
   "cell_type": "code",
   "execution_count": 15,
   "id": "37d0468b",
   "metadata": {},
   "outputs": [
    {
     "name": "stdout",
     "output_type": "stream",
     "text": [
      "Epoch 1/4\n",
      "7/7 [==============================] - 1s 29ms/step - loss: 1.8742 - accuracy: 0.4450 - val_loss: 1.2454 - val_accuracy: 0.4847\n",
      "Epoch 2/4\n",
      "7/7 [==============================] - 0s 9ms/step - loss: 1.1230 - accuracy: 0.4500 - val_loss: 0.8472 - val_accuracy: 0.4916\n",
      "Epoch 3/4\n",
      "7/7 [==============================] - 0s 9ms/step - loss: 0.8492 - accuracy: 0.4350 - val_loss: 0.7699 - val_accuracy: 0.3610\n",
      "Epoch 4/4\n",
      "7/7 [==============================] - 0s 10ms/step - loss: 0.7862 - accuracy: 0.3350 - val_loss: 0.7550 - val_accuracy: 0.3927\n",
      "Epoch 1/16\n",
      "7/7 [==============================] - 1s 30ms/step - loss: 0.7471 - accuracy: 0.4050 - val_loss: 0.6897 - val_accuracy: 0.5687\n",
      "Epoch 2/16\n",
      "7/7 [==============================] - 0s 9ms/step - loss: 0.6806 - accuracy: 0.5600 - val_loss: 0.6281 - val_accuracy: 0.6963\n",
      "Epoch 3/16\n",
      "7/7 [==============================] - 0s 9ms/step - loss: 0.6196 - accuracy: 0.7150 - val_loss: 0.5943 - val_accuracy: 0.6884\n",
      "Epoch 4/16\n",
      "7/7 [==============================] - 0s 9ms/step - loss: 0.5650 - accuracy: 0.7900 - val_loss: 0.5469 - val_accuracy: 0.8239\n",
      "Epoch 5/16\n",
      "7/7 [==============================] - 0s 9ms/step - loss: 0.5298 - accuracy: 0.8700 - val_loss: 0.5148 - val_accuracy: 0.8506\n",
      "Epoch 6/16\n",
      "7/7 [==============================] - 0s 10ms/step - loss: 0.4960 - accuracy: 0.8750 - val_loss: 0.4868 - val_accuracy: 0.8744\n",
      "Epoch 7/16\n",
      "7/7 [==============================] - 0s 10ms/step - loss: 0.4621 - accuracy: 0.9000 - val_loss: 0.4780 - val_accuracy: 0.8338\n",
      "Epoch 8/16\n",
      "7/7 [==============================] - 0s 10ms/step - loss: 0.4494 - accuracy: 0.9050 - val_loss: 0.4448 - val_accuracy: 0.8882\n",
      "Epoch 9/16\n",
      "7/7 [==============================] - 0s 9ms/step - loss: 0.4167 - accuracy: 0.9200 - val_loss: 0.4243 - val_accuracy: 0.9110\n",
      "Epoch 10/16\n",
      "7/7 [==============================] - 0s 9ms/step - loss: 0.3968 - accuracy: 0.9100 - val_loss: 0.4096 - val_accuracy: 0.9199\n",
      "Epoch 11/16\n",
      "7/7 [==============================] - 0s 9ms/step - loss: 0.3804 - accuracy: 0.9250 - val_loss: 0.3934 - val_accuracy: 0.9258\n",
      "Epoch 12/16\n",
      "7/7 [==============================] - 0s 9ms/step - loss: 0.3645 - accuracy: 0.9300 - val_loss: 0.3788 - val_accuracy: 0.9278\n",
      "Epoch 13/16\n",
      "7/7 [==============================] - 0s 10ms/step - loss: 0.3482 - accuracy: 0.9300 - val_loss: 0.3679 - val_accuracy: 0.9298\n",
      "Epoch 14/16\n",
      "7/7 [==============================] - 0s 9ms/step - loss: 0.3378 - accuracy: 0.9450 - val_loss: 0.3581 - val_accuracy: 0.9268\n",
      "Epoch 15/16\n",
      "7/7 [==============================] - 0s 9ms/step - loss: 0.3264 - accuracy: 0.9450 - val_loss: 0.3450 - val_accuracy: 0.9318\n",
      "Epoch 16/16\n",
      "7/7 [==============================] - 0s 10ms/step - loss: 0.3141 - accuracy: 0.9450 - val_loss: 0.3358 - val_accuracy: 0.9318\n"
     ]
    }
   ],
   "source": [
    "# Train transfer model\n",
    "history = model_B_on_A.fit(X_train_B, y_train_B, epochs=4,\n",
    "                           validation_data=(X_valid_B, y_valid_B))\n",
    "\n",
    "for layer in model_B_on_A.layers[:-1]:\n",
    "    layer.trainable = True\n",
    "\n",
    "optimizer = tf.keras.optimizers.SGD(learning_rate=0.001)\n",
    "model_B_on_A.compile(loss=\"binary_crossentropy\", optimizer=optimizer,\n",
    "                     metrics=[\"accuracy\"])\n",
    "history = model_B_on_A.fit(X_train_B, y_train_B, epochs=16,\n",
    "                           validation_data=(X_valid_B, y_valid_B))"
   ]
  },
  {
   "cell_type": "code",
   "execution_count": 16,
   "id": "df3f36f4",
   "metadata": {},
   "outputs": [
    {
     "name": "stdout",
     "output_type": "stream",
     "text": [
      "63/63 [==============================] - 0s 1ms/step - loss: 0.3430 - accuracy: 0.9210\n"
     ]
    },
    {
     "data": {
      "text/plain": [
       "[0.3430161476135254, 0.9210000038146973]"
      ]
     },
     "execution_count": 16,
     "metadata": {},
     "output_type": "execute_result"
    }
   ],
   "source": [
    "model_B_on_A.evaluate(X_test_B, y_test_B)"
   ]
  },
  {
   "cell_type": "code",
   "execution_count": 17,
   "id": "e520355b",
   "metadata": {},
   "outputs": [],
   "source": [
    "# implementing momentum optimization\n",
    "optimizer = tf.keras.optimizers.SGD(learning_rate=0.001, momentum=0.9)"
   ]
  },
  {
   "cell_type": "code",
   "execution_count": 18,
   "id": "a2289c97",
   "metadata": {},
   "outputs": [],
   "source": [
    "# Nesterov Accelerated Gradient (faster than momentum)\n",
    "optimizer = tf.keras.optimizers.SGD(learning_rate=0.001, momentum=0.9, nesterov=True)"
   ]
  },
  {
   "cell_type": "code",
   "execution_count": 19,
   "id": "923f8a72",
   "metadata": {},
   "outputs": [],
   "source": [
    "# RMS Prop, uses exp decay on most recent gradients\n",
    "optimizer = tf.keras.optimizers.RMSprop(learning_rate=0.001, rho=0.9)"
   ]
  },
  {
   "cell_type": "code",
   "execution_count": null,
   "id": "92194091",
   "metadata": {},
   "outputs": [],
   "source": []
  }
 ],
 "metadata": {
  "kernelspec": {
   "display_name": "Python 3 (ipykernel)",
   "language": "python",
   "name": "python3"
  },
  "language_info": {
   "codemirror_mode": {
    "name": "ipython",
    "version": 3
   },
   "file_extension": ".py",
   "mimetype": "text/x-python",
   "name": "python",
   "nbconvert_exporter": "python",
   "pygments_lexer": "ipython3",
   "version": "3.10.10"
  }
 },
 "nbformat": 4,
 "nbformat_minor": 5
}
